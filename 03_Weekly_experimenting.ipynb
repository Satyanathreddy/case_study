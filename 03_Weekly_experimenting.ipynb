{
 "cells": [
  {
   "cell_type": "markdown",
   "metadata": {},
   "source": [
    "# Purpose"
   ]
  },
  {
   "cell_type": "markdown",
   "metadata": {},
   "source": [
    "This notebook demonstrates the model experimentation and finalization. It covers EDA, outlier treatment, transformation, training, model evaluation and comparison across models."
   ]
  },
  {
   "cell_type": "markdown",
   "metadata": {},
   "source": [
    "## Imports"
   ]
  },
  {
   "cell_type": "code",
   "execution_count": 15,
   "metadata": {},
   "outputs": [],
   "source": [
    "import os\n",
    "import os.path as op\n",
    "import shutil\n",
    "\n",
    "# standard third party imports\n",
    "import numpy as np\n",
    "import pandas as pd\n",
    "from sklearn.pipeline import Pipeline\n",
    "from sklearn.feature_selection import SelectFromModel\n",
    "from sklearn.model_selection import GridSearchCV\n",
    "from sklearn.preprocessing import FunctionTransformer\n",
    "from sklearn.compose import ColumnTransformer\n",
    "\n",
    "# impute missing values\n",
    "from sklearn.experimental import enable_iterative_imputer  # noqa\n",
    "from sklearn.impute import KNNImputer, IterativeImputer, SimpleImputer\n",
    "from sklearn.tree import DecisionTreeRegressor\n",
    "from category_encoders import TargetEncoder\n"
   ]
  },
  {
   "cell_type": "code",
   "execution_count": 16,
   "metadata": {},
   "outputs": [
    {
     "name": "stdout",
     "output_type": "stream",
     "text": [
      "The autoreload extension is already loaded. To reload it, use:\n",
      "  %reload_ext autoreload\n"
     ]
    }
   ],
   "source": [
    "%load_ext autoreload\n",
    "%autoreload 2"
   ]
  },
  {
   "cell_type": "code",
   "execution_count": 17,
   "metadata": {},
   "outputs": [],
   "source": [
    "import matplotlib.pyplot as plt\n",
    "%matplotlib inline"
   ]
  },
  {
   "cell_type": "code",
   "execution_count": 18,
   "metadata": {},
   "outputs": [],
   "source": [
    "#import sys\n",
    "#sys.path.append(r\"D:\\CodeTemplate-Regrassion\\regression-py\\regression-py\\src\")"
   ]
  },
  {
   "cell_type": "code",
   "execution_count": 19,
   "metadata": {},
   "outputs": [],
   "source": [
    "import warnings\n",
    "\n",
    "warnings.filterwarnings('ignore', message=\"pandas.Int64Index is deprecated and will be removed from pandas in a future version. Use pandas.Index with the appropriate dtype instead.\", \n",
    "                        category=FutureWarning)\n",
    "warnings.filterwarnings('ignore', message=\"pandas.Float64Index is deprecated and will be removed from pandas in a future version. Use pandas.Index with the appropriate dtype instead.\",\n",
    "                        category=FutureWarning)"
   ]
  },
  {
   "cell_type": "code",
   "execution_count": 20,
   "metadata": {},
   "outputs": [],
   "source": [
    "# standard code-template imports\n",
    "from ta_lib.core.api import (\n",
    "    create_context, get_dataframe, get_feature_names_from_column_transformer, string_cleaning,\n",
    "    get_package_path, display_as_tabs, save_pipeline, load_pipeline, initialize_environment,\n",
    "    load_dataset, save_dataset, DEFAULT_ARTIFACTS_PATH\n",
    ")\n",
    "\n",
    "import ta_lib.eda.api as eda\n",
    "from xgboost import XGBRegressor\n",
    "from ta_lib.regression.api import SKLStatsmodelOLS\n",
    "from ta_lib.regression.api import RegressionComparison, RegressionReport\n",
    "import ta_lib.reports.api as reports\n",
    "from ta_lib.data_processing.api import Outlier\n",
    "\n",
    "initialize_environment(debug=False, hide_warnings=True)"
   ]
  },
  {
   "cell_type": "markdown",
   "metadata": {},
   "source": [
    "# Initialization"
   ]
  },
  {
   "cell_type": "code",
   "execution_count": 21,
   "metadata": {},
   "outputs": [],
   "source": [
    "artifacts_folder = DEFAULT_ARTIFACTS_PATH"
   ]
  },
  {
   "cell_type": "code",
   "execution_count": 22,
   "metadata": {},
   "outputs": [],
   "source": [
    "config_path = op.join('conf', 'config.yml')\n",
    "context = create_context(config_path)"
   ]
  },
  {
   "cell_type": "markdown",
   "metadata": {},
   "source": [
    "# 3 Feature Engineering\n",
    "\n",
    "The focus here is the `Pipeline` and not the model. Though the model would inform the pipeline that is needed to train the model, our focus is to set it up in such a way that it can be saved/loaded, tweaked for different model choices and so on."
   ]
  },
  {
   "cell_type": "markdown",
   "metadata": {},
   "source": [
    "## 3.1 Read the Train and Test Data"
   ]
  },
  {
   "cell_type": "code",
   "execution_count": 301,
   "metadata": {},
   "outputs": [
    {
     "name": "stdout",
     "output_type": "stream",
     "text": [
      "(2080, 13) (2080, 1)\n",
      "(634, 13) (634, 1)\n"
     ]
    }
   ],
   "source": [
    "train_X = load_dataset(context, 'train/Data/features')\n",
    "train_y = load_dataset(context, 'train/Data/target')\n",
    "print(train_X.shape, train_y.shape)\n",
    "\n",
    "test_X = load_dataset(context, 'test/Data/features')\n",
    "test_y = load_dataset(context, 'test/Data/target')\n",
    "print(test_X.shape, test_y.shape)"
   ]
  },
  {
   "cell_type": "markdown",
   "metadata": {},
   "source": [
    "## 3.2 Feature Engineering Pipelines\n"
   ]
  },
  {
   "cell_type": "markdown",
   "metadata": {},
   "source": [
    "**Dev NOTES**\n",
    "\n",
    "For Feature Engineering and Model Building sklearn.pipeline.Pipeline are leveraged because of the following advantages\n",
    "<details>\n",
    "    \n",
    "1. It helps in automating workflows and are easier to read and comprehend.\n",
    "2. Right Sequence can be ensured and (for example always encodes before imputing)\n",
    "3. Reproducibility is very convenient with pipelines\n",
    "4. Pipelines help you prevent data leakage in your test data\n",
    "5. Code is near implementation ready"
   ]
  },
  {
   "cell_type": "markdown",
   "metadata": {},
   "source": [
    "#### General Steps in the Feature Transformation are as follows\n",
    " - Outlier Treatment\n",
    " - Encoding of Categorical Columns\n",
    " - Missing Values Imputation"
   ]
  },
  {
   "cell_type": "code",
   "execution_count": 302,
   "metadata": {},
   "outputs": [],
   "source": [
    "# collecting different types of columns for transformations\n",
    "cat_columns = train_X.select_dtypes('object').columns\n",
    "num_columns = train_X.select_dtypes('number').columns"
   ]
  },
  {
   "cell_type": "markdown",
   "metadata": {},
   "source": [
    "#### Outlier Handling\n",
    "- A Custom Transformer is used to handle outliers. It is not included as part of the pipeline as outliers handling are optional for test data\n",
    "- An option to either drop or cap the outliers can be passed during the transform call\n",
    "- If we want to treat outliers for some columns them we can pass cols argument to the Transformer\n",
    "- This will go into production code"
   ]
  },
  {
   "cell_type": "code",
   "execution_count": 303,
   "metadata": {},
   "outputs": [
    {
     "name": "stdout",
     "output_type": "stream",
     "text": [
      "(2080, 13)\n",
      "(2080, 13)\n"
     ]
    }
   ],
   "source": [
    "outlier_transformer = Outlier(method='mean')\n",
    "print(train_X.shape)\n",
    "train_X = outlier_transformer.fit_transform(train_X)\n",
    "print(train_X.shape)"
   ]
  },
  {
   "cell_type": "code",
   "execution_count": 304,
   "metadata": {},
   "outputs": [
    {
     "data": {
      "text/html": [
       "<div>\n",
       "<style scoped>\n",
       "    .dataframe tbody tr th:only-of-type {\n",
       "        vertical-align: middle;\n",
       "    }\n",
       "\n",
       "    .dataframe tbody tr th {\n",
       "        vertical-align: top;\n",
       "    }\n",
       "\n",
       "    .dataframe thead th {\n",
       "        text-align: right;\n",
       "    }\n",
       "</style>\n",
       "<table border=\"1\" class=\"dataframe\">\n",
       "  <thead>\n",
       "    <tr style=\"text-align: right;\">\n",
       "      <th></th>\n",
       "      <th>year</th>\n",
       "      <th>month</th>\n",
       "      <th>week</th>\n",
       "      <th>total_post</th>\n",
       "      <th>search_volume</th>\n",
       "      <th>claim_name</th>\n",
       "      <th>D</th>\n",
       "      <th>Private Label</th>\n",
       "      <th>No competition</th>\n",
       "      <th>F</th>\n",
       "      <th>B</th>\n",
       "      <th>H</th>\n",
       "      <th>unit_price</th>\n",
       "    </tr>\n",
       "  </thead>\n",
       "  <tbody>\n",
       "    <tr>\n",
       "      <th>0</th>\n",
       "      <td>2016.0</td>\n",
       "      <td>1.0</td>\n",
       "      <td>1.0</td>\n",
       "      <td>1709.0</td>\n",
       "      <td>42093.0</td>\n",
       "      <td>low carb</td>\n",
       "      <td>1.0</td>\n",
       "      <td>1.0</td>\n",
       "      <td>0.0</td>\n",
       "      <td>0.0</td>\n",
       "      <td>0.0</td>\n",
       "      <td>0.0</td>\n",
       "      <td>4.381675</td>\n",
       "    </tr>\n",
       "    <tr>\n",
       "      <th>1</th>\n",
       "      <td>2016.0</td>\n",
       "      <td>1.0</td>\n",
       "      <td>2.0</td>\n",
       "      <td>1849.0</td>\n",
       "      <td>140775.0</td>\n",
       "      <td>low carb</td>\n",
       "      <td>1.0</td>\n",
       "      <td>1.0</td>\n",
       "      <td>0.0</td>\n",
       "      <td>0.0</td>\n",
       "      <td>0.0</td>\n",
       "      <td>0.0</td>\n",
       "      <td>4.340623</td>\n",
       "    </tr>\n",
       "    <tr>\n",
       "      <th>2</th>\n",
       "      <td>2016.0</td>\n",
       "      <td>1.0</td>\n",
       "      <td>3.0</td>\n",
       "      <td>2632.0</td>\n",
       "      <td>105801.0</td>\n",
       "      <td>low carb</td>\n",
       "      <td>1.0</td>\n",
       "      <td>1.0</td>\n",
       "      <td>0.0</td>\n",
       "      <td>0.0</td>\n",
       "      <td>0.0</td>\n",
       "      <td>0.0</td>\n",
       "      <td>4.376924</td>\n",
       "    </tr>\n",
       "    <tr>\n",
       "      <th>3</th>\n",
       "      <td>2016.0</td>\n",
       "      <td>1.0</td>\n",
       "      <td>4.0</td>\n",
       "      <td>2866.0</td>\n",
       "      <td>117372.0</td>\n",
       "      <td>low carb</td>\n",
       "      <td>1.0</td>\n",
       "      <td>1.0</td>\n",
       "      <td>0.0</td>\n",
       "      <td>0.0</td>\n",
       "      <td>0.0</td>\n",
       "      <td>0.0</td>\n",
       "      <td>4.288565</td>\n",
       "    </tr>\n",
       "    <tr>\n",
       "      <th>4</th>\n",
       "      <td>2016.0</td>\n",
       "      <td>2.0</td>\n",
       "      <td>5.0</td>\n",
       "      <td>3345.0</td>\n",
       "      <td>105166.0</td>\n",
       "      <td>low carb</td>\n",
       "      <td>1.0</td>\n",
       "      <td>1.0</td>\n",
       "      <td>0.0</td>\n",
       "      <td>0.0</td>\n",
       "      <td>0.0</td>\n",
       "      <td>0.0</td>\n",
       "      <td>4.255902</td>\n",
       "    </tr>\n",
       "  </tbody>\n",
       "</table>\n",
       "</div>"
      ],
      "text/plain": [
       "     year  month  week  total_post  search_volume claim_name    D  \\\n",
       "0  2016.0    1.0   1.0      1709.0        42093.0   low carb  1.0   \n",
       "1  2016.0    1.0   2.0      1849.0       140775.0   low carb  1.0   \n",
       "2  2016.0    1.0   3.0      2632.0       105801.0   low carb  1.0   \n",
       "3  2016.0    1.0   4.0      2866.0       117372.0   low carb  1.0   \n",
       "4  2016.0    2.0   5.0      3345.0       105166.0   low carb  1.0   \n",
       "\n",
       "   Private Label  No competition    F    B    H  unit_price  \n",
       "0            1.0             0.0  0.0  0.0  0.0    4.381675  \n",
       "1            1.0             0.0  0.0  0.0  0.0    4.340623  \n",
       "2            1.0             0.0  0.0  0.0  0.0    4.376924  \n",
       "3            1.0             0.0  0.0  0.0  0.0    4.288565  \n",
       "4            1.0             0.0  0.0  0.0  0.0    4.255902  "
      ]
     },
     "execution_count": 304,
     "metadata": {},
     "output_type": "execute_result"
    }
   ],
   "source": [
    "train_X.head()"
   ]
  },
  {
   "cell_type": "raw",
   "metadata": {},
   "source": [
    "for i in range(train_X.shape[0]):\n",
    "    if train_X['month'][i] in [1,2,3]:\n",
    "        train_X.loc[i,'month']='Quarter_1'\n",
    "    elif train_X['month'][i] in [4,5,6]:\n",
    "        train_X.loc[i,'month']='Quarter_2'\n",
    "    elif train_X['month'][i] in [7,8,9]:\n",
    "        train_X.loc[i,'month']='Quarter_3'\n",
    "    else :\n",
    "        train_X.loc[i,'month']='Quarter_4'\n",
    "        \n",
    "        \n",
    "        \n",
    "for i in range(test_X.shape[0]):\n",
    "    if test_X['month'][i] in [1,2,3]:\n",
    "        test_X.loc[i,'month']='Quarter_1'\n",
    "    elif test_X['month'][i] in [4,5,6]:\n",
    "        test_X.loc[i,'month']='Quarter_2'\n",
    "    elif test_X['month'][i] in [7,8,9]:\n",
    "        test_X.loc[i,'month']='Quarter_3'\n",
    "    else :\n",
    "        test_X.loc[i,'month']='Quarter_4'"
   ]
  },
  {
   "cell_type": "code",
   "execution_count": 305,
   "metadata": {},
   "outputs": [],
   "source": [
    "for i in range(train_X.shape[0]):\n",
    "    if train_X['month'][i] in [1,12]:\n",
    "        train_X.loc[i,'month']='winter'\n",
    "    elif train_X['month'][i] in [2,3]:\n",
    "        train_X.loc[i,'month']='spring'\n",
    "    elif train_X['month'][i] in [4,5,6]:\n",
    "        train_X.loc[i,'month']='summer'\n",
    "    elif train_X['month'][i] in [7,8,9]:\n",
    "        train_X.loc[i,'month']='mansoon'\n",
    "    else :\n",
    "        train_X.loc[i,'month']='autumn'\n",
    "        \n",
    "        \n",
    "for i in range(test_X.shape[0]):\n",
    "    if test_X['month'][i] in [1,12]:\n",
    "        test_X.loc[i,'month']='winter'\n",
    "    elif test_X['month'][i] in [2,3]:\n",
    "        test_X.loc[i,'month']='spring'\n",
    "    elif test_X['month'][i] in [4,5,6]:\n",
    "        test_X.loc[i,'month']='summer'\n",
    "    elif test_X['month'][i] in [7,8,9]:\n",
    "        test_X.loc[i,'month']='mansoon'\n",
    "    else :\n",
    "        test_X.loc[i,'month']='autumn'"
   ]
  },
  {
   "cell_type": "code",
   "execution_count": 306,
   "metadata": {},
   "outputs": [],
   "source": [
    "train_X.drop(columns=['year','week'],axis=1 , inplace=True)\n",
    "test_X.drop(columns=['year','week'],axis=1 , inplace=True)\n",
    "train_X = train_X.rename_column(old_column_name='month',new_column_name='season')\n",
    "test_X = test_X.rename_column(old_column_name='month',new_column_name='season')"
   ]
  },
  {
   "cell_type": "code",
   "execution_count": 307,
   "metadata": {},
   "outputs": [],
   "source": [
    "quarter_type_1 = pd.get_dummies(train_X['season'], drop_first=True)\n",
    "quarter_type_2 = pd.get_dummies(test_X['season'], drop_first=True)\n",
    "claim_name_1 = pd.get_dummies(train_X['claim_name'], drop_first=True)\n",
    "claim_name_2 = pd.get_dummies(test_X['claim_name'], drop_first=True)"
   ]
  },
  {
   "cell_type": "code",
   "execution_count": 308,
   "metadata": {},
   "outputs": [],
   "source": [
    "train_X = pd.concat([train_X, quarter_type_1,claim_name_1] , axis=1)\n",
    "test_X = pd.concat([test_X, quarter_type_2,claim_name_2] , axis=1)\n",
    "train_X.drop(columns=['season','claim_name'], axis=1, inplace=True)\n",
    "test_X.drop(columns=['season','claim_name'], axis=1, inplace=True)"
   ]
  },
  {
   "cell_type": "code",
   "execution_count": 309,
   "metadata": {},
   "outputs": [
    {
     "data": {
      "text/html": [
       "<div>\n",
       "<style scoped>\n",
       "    .dataframe tbody tr th:only-of-type {\n",
       "        vertical-align: middle;\n",
       "    }\n",
       "\n",
       "    .dataframe tbody tr th {\n",
       "        vertical-align: top;\n",
       "    }\n",
       "\n",
       "    .dataframe thead th {\n",
       "        text-align: right;\n",
       "    }\n",
       "</style>\n",
       "<table border=\"1\" class=\"dataframe\">\n",
       "  <thead>\n",
       "    <tr style=\"text-align: right;\">\n",
       "      <th></th>\n",
       "      <th>total_post</th>\n",
       "      <th>search_volume</th>\n",
       "      <th>D</th>\n",
       "      <th>Private Label</th>\n",
       "      <th>No competition</th>\n",
       "      <th>F</th>\n",
       "      <th>B</th>\n",
       "      <th>H</th>\n",
       "      <th>unit_price</th>\n",
       "      <th>mansoon</th>\n",
       "      <th>...</th>\n",
       "      <th>highsource of protein</th>\n",
       "      <th>low carb</th>\n",
       "      <th>low sodium</th>\n",
       "      <th>low sugar</th>\n",
       "      <th>no additivespreservatives</th>\n",
       "      <th>poultry</th>\n",
       "      <th>salmon</th>\n",
       "      <th>soy foods</th>\n",
       "      <th>tuna</th>\n",
       "      <th>vegetarian</th>\n",
       "    </tr>\n",
       "  </thead>\n",
       "  <tbody>\n",
       "    <tr>\n",
       "      <th>0</th>\n",
       "      <td>1709.0</td>\n",
       "      <td>42093.0</td>\n",
       "      <td>1.0</td>\n",
       "      <td>1.0</td>\n",
       "      <td>0.0</td>\n",
       "      <td>0.0</td>\n",
       "      <td>0.0</td>\n",
       "      <td>0.0</td>\n",
       "      <td>4.381675</td>\n",
       "      <td>0</td>\n",
       "      <td>...</td>\n",
       "      <td>0</td>\n",
       "      <td>1</td>\n",
       "      <td>0</td>\n",
       "      <td>0</td>\n",
       "      <td>0</td>\n",
       "      <td>0</td>\n",
       "      <td>0</td>\n",
       "      <td>0</td>\n",
       "      <td>0</td>\n",
       "      <td>0</td>\n",
       "    </tr>\n",
       "    <tr>\n",
       "      <th>1</th>\n",
       "      <td>1849.0</td>\n",
       "      <td>140775.0</td>\n",
       "      <td>1.0</td>\n",
       "      <td>1.0</td>\n",
       "      <td>0.0</td>\n",
       "      <td>0.0</td>\n",
       "      <td>0.0</td>\n",
       "      <td>0.0</td>\n",
       "      <td>4.340623</td>\n",
       "      <td>0</td>\n",
       "      <td>...</td>\n",
       "      <td>0</td>\n",
       "      <td>1</td>\n",
       "      <td>0</td>\n",
       "      <td>0</td>\n",
       "      <td>0</td>\n",
       "      <td>0</td>\n",
       "      <td>0</td>\n",
       "      <td>0</td>\n",
       "      <td>0</td>\n",
       "      <td>0</td>\n",
       "    </tr>\n",
       "    <tr>\n",
       "      <th>2</th>\n",
       "      <td>2632.0</td>\n",
       "      <td>105801.0</td>\n",
       "      <td>1.0</td>\n",
       "      <td>1.0</td>\n",
       "      <td>0.0</td>\n",
       "      <td>0.0</td>\n",
       "      <td>0.0</td>\n",
       "      <td>0.0</td>\n",
       "      <td>4.376924</td>\n",
       "      <td>0</td>\n",
       "      <td>...</td>\n",
       "      <td>0</td>\n",
       "      <td>1</td>\n",
       "      <td>0</td>\n",
       "      <td>0</td>\n",
       "      <td>0</td>\n",
       "      <td>0</td>\n",
       "      <td>0</td>\n",
       "      <td>0</td>\n",
       "      <td>0</td>\n",
       "      <td>0</td>\n",
       "    </tr>\n",
       "    <tr>\n",
       "      <th>3</th>\n",
       "      <td>2866.0</td>\n",
       "      <td>117372.0</td>\n",
       "      <td>1.0</td>\n",
       "      <td>1.0</td>\n",
       "      <td>0.0</td>\n",
       "      <td>0.0</td>\n",
       "      <td>0.0</td>\n",
       "      <td>0.0</td>\n",
       "      <td>4.288565</td>\n",
       "      <td>0</td>\n",
       "      <td>...</td>\n",
       "      <td>0</td>\n",
       "      <td>1</td>\n",
       "      <td>0</td>\n",
       "      <td>0</td>\n",
       "      <td>0</td>\n",
       "      <td>0</td>\n",
       "      <td>0</td>\n",
       "      <td>0</td>\n",
       "      <td>0</td>\n",
       "      <td>0</td>\n",
       "    </tr>\n",
       "    <tr>\n",
       "      <th>4</th>\n",
       "      <td>3345.0</td>\n",
       "      <td>105166.0</td>\n",
       "      <td>1.0</td>\n",
       "      <td>1.0</td>\n",
       "      <td>0.0</td>\n",
       "      <td>0.0</td>\n",
       "      <td>0.0</td>\n",
       "      <td>0.0</td>\n",
       "      <td>4.255902</td>\n",
       "      <td>0</td>\n",
       "      <td>...</td>\n",
       "      <td>0</td>\n",
       "      <td>1</td>\n",
       "      <td>0</td>\n",
       "      <td>0</td>\n",
       "      <td>0</td>\n",
       "      <td>0</td>\n",
       "      <td>0</td>\n",
       "      <td>0</td>\n",
       "      <td>0</td>\n",
       "      <td>0</td>\n",
       "    </tr>\n",
       "    <tr>\n",
       "      <th>...</th>\n",
       "      <td>...</td>\n",
       "      <td>...</td>\n",
       "      <td>...</td>\n",
       "      <td>...</td>\n",
       "      <td>...</td>\n",
       "      <td>...</td>\n",
       "      <td>...</td>\n",
       "      <td>...</td>\n",
       "      <td>...</td>\n",
       "      <td>...</td>\n",
       "      <td>...</td>\n",
       "      <td>...</td>\n",
       "      <td>...</td>\n",
       "      <td>...</td>\n",
       "      <td>...</td>\n",
       "      <td>...</td>\n",
       "      <td>...</td>\n",
       "      <td>...</td>\n",
       "      <td>...</td>\n",
       "      <td>...</td>\n",
       "      <td>...</td>\n",
       "    </tr>\n",
       "    <tr>\n",
       "      <th>2075</th>\n",
       "      <td>5027.0</td>\n",
       "      <td>160096.0</td>\n",
       "      <td>0.0</td>\n",
       "      <td>0.0</td>\n",
       "      <td>1.0</td>\n",
       "      <td>0.0</td>\n",
       "      <td>0.0</td>\n",
       "      <td>0.0</td>\n",
       "      <td>26.601650</td>\n",
       "      <td>0</td>\n",
       "      <td>...</td>\n",
       "      <td>0</td>\n",
       "      <td>0</td>\n",
       "      <td>0</td>\n",
       "      <td>0</td>\n",
       "      <td>0</td>\n",
       "      <td>0</td>\n",
       "      <td>0</td>\n",
       "      <td>0</td>\n",
       "      <td>0</td>\n",
       "      <td>0</td>\n",
       "    </tr>\n",
       "    <tr>\n",
       "      <th>2076</th>\n",
       "      <td>5195.0</td>\n",
       "      <td>146546.0</td>\n",
       "      <td>0.0</td>\n",
       "      <td>0.0</td>\n",
       "      <td>1.0</td>\n",
       "      <td>0.0</td>\n",
       "      <td>0.0</td>\n",
       "      <td>0.0</td>\n",
       "      <td>26.031479</td>\n",
       "      <td>0</td>\n",
       "      <td>...</td>\n",
       "      <td>0</td>\n",
       "      <td>0</td>\n",
       "      <td>0</td>\n",
       "      <td>0</td>\n",
       "      <td>0</td>\n",
       "      <td>0</td>\n",
       "      <td>0</td>\n",
       "      <td>0</td>\n",
       "      <td>0</td>\n",
       "      <td>0</td>\n",
       "    </tr>\n",
       "    <tr>\n",
       "      <th>2077</th>\n",
       "      <td>4524.0</td>\n",
       "      <td>170440.0</td>\n",
       "      <td>0.0</td>\n",
       "      <td>0.0</td>\n",
       "      <td>1.0</td>\n",
       "      <td>0.0</td>\n",
       "      <td>0.0</td>\n",
       "      <td>0.0</td>\n",
       "      <td>26.630988</td>\n",
       "      <td>0</td>\n",
       "      <td>...</td>\n",
       "      <td>0</td>\n",
       "      <td>0</td>\n",
       "      <td>0</td>\n",
       "      <td>0</td>\n",
       "      <td>0</td>\n",
       "      <td>0</td>\n",
       "      <td>0</td>\n",
       "      <td>0</td>\n",
       "      <td>0</td>\n",
       "      <td>0</td>\n",
       "    </tr>\n",
       "    <tr>\n",
       "      <th>2078</th>\n",
       "      <td>4554.0</td>\n",
       "      <td>79179.0</td>\n",
       "      <td>0.0</td>\n",
       "      <td>0.0</td>\n",
       "      <td>1.0</td>\n",
       "      <td>0.0</td>\n",
       "      <td>0.0</td>\n",
       "      <td>0.0</td>\n",
       "      <td>26.708822</td>\n",
       "      <td>0</td>\n",
       "      <td>...</td>\n",
       "      <td>0</td>\n",
       "      <td>0</td>\n",
       "      <td>0</td>\n",
       "      <td>0</td>\n",
       "      <td>0</td>\n",
       "      <td>0</td>\n",
       "      <td>0</td>\n",
       "      <td>0</td>\n",
       "      <td>0</td>\n",
       "      <td>0</td>\n",
       "    </tr>\n",
       "    <tr>\n",
       "      <th>2079</th>\n",
       "      <td>3927.0</td>\n",
       "      <td>68978.0</td>\n",
       "      <td>0.0</td>\n",
       "      <td>0.0</td>\n",
       "      <td>1.0</td>\n",
       "      <td>0.0</td>\n",
       "      <td>0.0</td>\n",
       "      <td>0.0</td>\n",
       "      <td>26.467532</td>\n",
       "      <td>0</td>\n",
       "      <td>...</td>\n",
       "      <td>0</td>\n",
       "      <td>0</td>\n",
       "      <td>0</td>\n",
       "      <td>0</td>\n",
       "      <td>0</td>\n",
       "      <td>0</td>\n",
       "      <td>0</td>\n",
       "      <td>0</td>\n",
       "      <td>0</td>\n",
       "      <td>0</td>\n",
       "    </tr>\n",
       "  </tbody>\n",
       "</table>\n",
       "<p>2080 rows × 29 columns</p>\n",
       "</div>"
      ],
      "text/plain": [
       "      total_post  search_volume    D  Private Label  No competition    F    B  \\\n",
       "0         1709.0        42093.0  1.0            1.0             0.0  0.0  0.0   \n",
       "1         1849.0       140775.0  1.0            1.0             0.0  0.0  0.0   \n",
       "2         2632.0       105801.0  1.0            1.0             0.0  0.0  0.0   \n",
       "3         2866.0       117372.0  1.0            1.0             0.0  0.0  0.0   \n",
       "4         3345.0       105166.0  1.0            1.0             0.0  0.0  0.0   \n",
       "...          ...            ...  ...            ...             ...  ...  ...   \n",
       "2075      5027.0       160096.0  0.0            0.0             1.0  0.0  0.0   \n",
       "2076      5195.0       146546.0  0.0            0.0             1.0  0.0  0.0   \n",
       "2077      4524.0       170440.0  0.0            0.0             1.0  0.0  0.0   \n",
       "2078      4554.0        79179.0  0.0            0.0             1.0  0.0  0.0   \n",
       "2079      3927.0        68978.0  0.0            0.0             1.0  0.0  0.0   \n",
       "\n",
       "        H  unit_price  mansoon  ...  highsource of protein  low carb  \\\n",
       "0     0.0    4.381675        0  ...                      0         1   \n",
       "1     0.0    4.340623        0  ...                      0         1   \n",
       "2     0.0    4.376924        0  ...                      0         1   \n",
       "3     0.0    4.288565        0  ...                      0         1   \n",
       "4     0.0    4.255902        0  ...                      0         1   \n",
       "...   ...         ...      ...  ...                    ...       ...   \n",
       "2075  0.0   26.601650        0  ...                      0         0   \n",
       "2076  0.0   26.031479        0  ...                      0         0   \n",
       "2077  0.0   26.630988        0  ...                      0         0   \n",
       "2078  0.0   26.708822        0  ...                      0         0   \n",
       "2079  0.0   26.467532        0  ...                      0         0   \n",
       "\n",
       "      low sodium  low sugar  no additivespreservatives  poultry  salmon  \\\n",
       "0              0          0                          0        0       0   \n",
       "1              0          0                          0        0       0   \n",
       "2              0          0                          0        0       0   \n",
       "3              0          0                          0        0       0   \n",
       "4              0          0                          0        0       0   \n",
       "...          ...        ...                        ...      ...     ...   \n",
       "2075           0          0                          0        0       0   \n",
       "2076           0          0                          0        0       0   \n",
       "2077           0          0                          0        0       0   \n",
       "2078           0          0                          0        0       0   \n",
       "2079           0          0                          0        0       0   \n",
       "\n",
       "      soy foods  tuna  vegetarian  \n",
       "0             0     0           0  \n",
       "1             0     0           0  \n",
       "2             0     0           0  \n",
       "3             0     0           0  \n",
       "4             0     0           0  \n",
       "...         ...   ...         ...  \n",
       "2075          0     0           0  \n",
       "2076          0     0           0  \n",
       "2077          0     0           0  \n",
       "2078          0     0           0  \n",
       "2079          0     0           0  \n",
       "\n",
       "[2080 rows x 29 columns]"
      ]
     },
     "execution_count": 309,
     "metadata": {},
     "output_type": "execute_result"
    }
   ],
   "source": [
    "train_X"
   ]
  },
  {
   "cell_type": "code",
   "execution_count": 310,
   "metadata": {},
   "outputs": [],
   "source": [
    "# scaling\n",
    "from sklearn.preprocessing import PowerTransformer\n",
    "sc = PowerTransformer()\n",
    "train_X[['total_post','search_volume','unit_price']] = sc.fit_transform(train_X[['total_post','search_volume','unit_price']])\n",
    "test_X[['total_post','search_volume','unit_price']] = sc.fit_transform(test_X[['total_post','search_volume','unit_price']])\n",
    "train_y = sc.fit_transform(pd.DataFrame(train_y))\n",
    "test_y = sc.fit_transform(pd.DataFrame(test_y))\n",
    "train_y = pd.DataFrame(train_y)\n",
    "test_y = pd.DataFrame(test_y)\n",
    "train_y.rename(columns={0:'sales_dollars_value'}, inplace=True)\n",
    "test_y.rename(columns={0:'sales_dollars_value'}, inplace=True)"
   ]
  },
  {
   "cell_type": "code",
   "execution_count": 311,
   "metadata": {},
   "outputs": [
    {
     "data": {
      "text/plain": [
       "{'tuna'}"
      ]
     },
     "execution_count": 311,
     "metadata": {},
     "output_type": "execute_result"
    }
   ],
   "source": [
    "set(train_X.columns) -set(test_X.columns)"
   ]
  },
  {
   "cell_type": "code",
   "execution_count": 312,
   "metadata": {},
   "outputs": [],
   "source": [
    "test_X.drop(columns=['gingerbread','ethical packaging'], axis=1, inplace=True)\n",
    "train_X.drop(columns=['tuna'], axis=1, inplace=True)"
   ]
  },
  {
   "cell_type": "code",
   "execution_count": 313,
   "metadata": {},
   "outputs": [],
   "source": [
    "from sklearn.linear_model import LinearRegression\n",
    "from sklearn.metrics import r2_score\n",
    "import statsmodels.api as sm"
   ]
  },
  {
   "cell_type": "code",
   "execution_count": 314,
   "metadata": {},
   "outputs": [
    {
     "data": {
      "text/plain": [
       "0.9257606590806496"
      ]
     },
     "execution_count": 314,
     "metadata": {},
     "output_type": "execute_result"
    }
   ],
   "source": [
    "lin_rig = LinearRegression()\n",
    "lin_rig.fit(train_X,train_y)\n",
    "y_pred = lin_rig.predict(test_X)\n",
    "y_pred\n",
    "r2_score(test_y,y_pred)"
   ]
  },
  {
   "cell_type": "code",
   "execution_count": 315,
   "metadata": {},
   "outputs": [
    {
     "data": {
      "text/html": [
       "<table class=\"simpletable\">\n",
       "<caption>OLS Regression Results</caption>\n",
       "<tr>\n",
       "  <th>Dep. Variable:</th>    <td>sales_dollars_value</td> <th>  R-squared:         </th> <td>   0.985</td>\n",
       "</tr>\n",
       "<tr>\n",
       "  <th>Model:</th>                    <td>OLS</td>         <th>  Adj. R-squared:    </th> <td>   0.984</td>\n",
       "</tr>\n",
       "<tr>\n",
       "  <th>Method:</th>              <td>Least Squares</td>    <th>  F-statistic:       </th> <td>   5974.</td>\n",
       "</tr>\n",
       "<tr>\n",
       "  <th>Date:</th>              <td>Tue, 30 Aug 2022</td>   <th>  Prob (F-statistic):</th>  <td>  0.00</td> \n",
       "</tr>\n",
       "<tr>\n",
       "  <th>Time:</th>                  <td>12:42:58</td>       <th>  Log-Likelihood:    </th> <td>  1388.2</td>\n",
       "</tr>\n",
       "<tr>\n",
       "  <th>No. Observations:</th>       <td>  2080</td>        <th>  AIC:               </th> <td>  -2730.</td>\n",
       "</tr>\n",
       "<tr>\n",
       "  <th>Df Residuals:</th>           <td>  2057</td>        <th>  BIC:               </th> <td>  -2601.</td>\n",
       "</tr>\n",
       "<tr>\n",
       "  <th>Df Model:</th>               <td>    22</td>        <th>                     </th>     <td> </td>   \n",
       "</tr>\n",
       "<tr>\n",
       "  <th>Covariance Type:</th>       <td>nonrobust</td>      <th>                     </th>     <td> </td>   \n",
       "</tr>\n",
       "</table>\n",
       "<table class=\"simpletable\">\n",
       "<tr>\n",
       "              <td></td>                 <th>coef</th>     <th>std err</th>      <th>t</th>      <th>P>|t|</th>  <th>[0.025</th>    <th>0.975]</th>  \n",
       "</tr>\n",
       "<tr>\n",
       "  <th>const</th>                     <td>   -0.5519</td> <td>    0.013</td> <td>  -41.496</td> <td> 0.000</td> <td>   -0.578</td> <td>   -0.526</td>\n",
       "</tr>\n",
       "<tr>\n",
       "  <th>total_post</th>                <td>    0.0287</td> <td>    0.005</td> <td>    5.707</td> <td> 0.000</td> <td>    0.019</td> <td>    0.039</td>\n",
       "</tr>\n",
       "<tr>\n",
       "  <th>search_volume</th>             <td>    0.0528</td> <td>    0.011</td> <td>    5.018</td> <td> 0.000</td> <td>    0.032</td> <td>    0.073</td>\n",
       "</tr>\n",
       "<tr>\n",
       "  <th>D</th>                         <td>    0.6392</td> <td>    0.011</td> <td>   59.773</td> <td> 0.000</td> <td>    0.618</td> <td>    0.660</td>\n",
       "</tr>\n",
       "<tr>\n",
       "  <th>Private Label</th>             <td>    0.2810</td> <td>    0.009</td> <td>   31.282</td> <td> 0.000</td> <td>    0.263</td> <td>    0.299</td>\n",
       "</tr>\n",
       "<tr>\n",
       "  <th>No competition</th>            <td>   -1.3927</td> <td>    0.009</td> <td> -148.632</td> <td> 0.000</td> <td>   -1.411</td> <td>   -1.374</td>\n",
       "</tr>\n",
       "<tr>\n",
       "  <th>F</th>                         <td>   -0.1612</td> <td>    0.013</td> <td>  -12.373</td> <td> 0.000</td> <td>   -0.187</td> <td>   -0.136</td>\n",
       "</tr>\n",
       "<tr>\n",
       "  <th>B</th>                         <td>    0.0375</td> <td>    0.007</td> <td>    5.400</td> <td> 0.000</td> <td>    0.024</td> <td>    0.051</td>\n",
       "</tr>\n",
       "<tr>\n",
       "  <th>H</th>                         <td>   -0.4582</td> <td>    0.010</td> <td>  -44.078</td> <td> 0.000</td> <td>   -0.479</td> <td>   -0.438</td>\n",
       "</tr>\n",
       "<tr>\n",
       "  <th>unit_price</th>                <td>    0.0768</td> <td>    0.013</td> <td>    5.779</td> <td> 0.000</td> <td>    0.051</td> <td>    0.103</td>\n",
       "</tr>\n",
       "<tr>\n",
       "  <th>mansoon</th>                   <td>   -0.0194</td> <td>    0.009</td> <td>   -2.227</td> <td> 0.026</td> <td>   -0.036</td> <td>   -0.002</td>\n",
       "</tr>\n",
       "<tr>\n",
       "  <th>spring</th>                    <td>   -0.0306</td> <td>    0.010</td> <td>   -3.160</td> <td> 0.002</td> <td>   -0.050</td> <td>   -0.012</td>\n",
       "</tr>\n",
       "<tr>\n",
       "  <th>summer</th>                    <td>   -0.0249</td> <td>    0.009</td> <td>   -2.841</td> <td> 0.005</td> <td>   -0.042</td> <td>   -0.008</td>\n",
       "</tr>\n",
       "<tr>\n",
       "  <th>winter</th>                    <td>   -0.0187</td> <td>    0.010</td> <td>   -1.936</td> <td> 0.053</td> <td>   -0.038</td> <td>    0.000</td>\n",
       "</tr>\n",
       "<tr>\n",
       "  <th>blueberry</th>                 <td>    0.5414</td> <td>    0.013</td> <td>   42.469</td> <td> 0.000</td> <td>    0.516</td> <td>    0.566</td>\n",
       "</tr>\n",
       "<tr>\n",
       "  <th>chicken</th>                   <td>   -0.7451</td> <td>    0.013</td> <td>  -58.404</td> <td> 0.000</td> <td>   -0.770</td> <td>   -0.720</td>\n",
       "</tr>\n",
       "<tr>\n",
       "  <th>crab</th>                      <td>   -0.0187</td> <td>    0.013</td> <td>   -1.468</td> <td> 0.142</td> <td>   -0.044</td> <td>    0.006</td>\n",
       "</tr>\n",
       "<tr>\n",
       "  <th>ethnic & exotic</th>           <td>    2.5991</td> <td>    0.025</td> <td>  104.217</td> <td> 0.000</td> <td>    2.550</td> <td>    2.648</td>\n",
       "</tr>\n",
       "<tr>\n",
       "  <th>french bisque</th>             <td>   -0.9332</td> <td>    0.012</td> <td>  -74.879</td> <td> 0.000</td> <td>   -0.958</td> <td>   -0.909</td>\n",
       "</tr>\n",
       "<tr>\n",
       "  <th>gmo free</th>                  <td>    0.4108</td> <td>    0.017</td> <td>   23.906</td> <td> 0.000</td> <td>    0.377</td> <td>    0.445</td>\n",
       "</tr>\n",
       "<tr>\n",
       "  <th>highsource of protein</th>     <td>    1.7015</td> <td>    0.025</td> <td>   68.044</td> <td> 0.000</td> <td>    1.652</td> <td>    1.751</td>\n",
       "</tr>\n",
       "<tr>\n",
       "  <th>low carb</th>                  <td>    1.0257</td> <td>    0.012</td> <td>   86.712</td> <td> 0.000</td> <td>    1.003</td> <td>    1.049</td>\n",
       "</tr>\n",
       "<tr>\n",
       "  <th>low sodium</th>                <td>    0.1801</td> <td>    0.011</td> <td>   17.007</td> <td> 0.000</td> <td>    0.159</td> <td>    0.201</td>\n",
       "</tr>\n",
       "<tr>\n",
       "  <th>low sugar</th>                 <td>    1.3771</td> <td>    0.033</td> <td>   42.145</td> <td> 0.000</td> <td>    1.313</td> <td>    1.441</td>\n",
       "</tr>\n",
       "<tr>\n",
       "  <th>no additivespreservatives</th> <td>    1.2918</td> <td>    0.017</td> <td>   75.109</td> <td> 0.000</td> <td>    1.258</td> <td>    1.326</td>\n",
       "</tr>\n",
       "<tr>\n",
       "  <th>poultry</th>                   <td>    1.1677</td> <td>    0.028</td> <td>   41.886</td> <td> 0.000</td> <td>    1.113</td> <td>    1.222</td>\n",
       "</tr>\n",
       "<tr>\n",
       "  <th>salmon</th>                    <td>    3.3864</td> <td>    0.017</td> <td>  195.376</td> <td> 0.000</td> <td>    3.352</td> <td>    3.420</td>\n",
       "</tr>\n",
       "<tr>\n",
       "  <th>soy foods</th>                 <td>    3.4397</td> <td>    0.027</td> <td>  126.661</td> <td> 0.000</td> <td>    3.386</td> <td>    3.493</td>\n",
       "</tr>\n",
       "<tr>\n",
       "  <th>vegetarian</th>                <td>   -0.9119</td> <td>    0.023</td> <td>  -40.371</td> <td> 0.000</td> <td>   -0.956</td> <td>   -0.868</td>\n",
       "</tr>\n",
       "</table>\n",
       "<table class=\"simpletable\">\n",
       "<tr>\n",
       "  <th>Omnibus:</th>       <td>442.916</td> <th>  Durbin-Watson:     </th> <td>   0.268</td>\n",
       "</tr>\n",
       "<tr>\n",
       "  <th>Prob(Omnibus):</th> <td> 0.000</td>  <th>  Jarque-Bera (JB):  </th> <td>2861.101</td>\n",
       "</tr>\n",
       "<tr>\n",
       "  <th>Skew:</th>          <td>-0.841</td>  <th>  Prob(JB):          </th> <td>    0.00</td>\n",
       "</tr>\n",
       "<tr>\n",
       "  <th>Kurtosis:</th>      <td> 8.494</td>  <th>  Cond. No.          </th> <td>2.12e+16</td>\n",
       "</tr>\n",
       "</table><br/><br/>Notes:<br/>[1] Standard Errors assume that the covariance matrix of the errors is correctly specified.<br/>[2] The smallest eigenvalue is 8.88e-30. This might indicate that there are<br/>strong multicollinearity problems or that the design matrix is singular."
      ],
      "text/plain": [
       "<class 'statsmodels.iolib.summary.Summary'>\n",
       "\"\"\"\n",
       "                             OLS Regression Results                            \n",
       "===============================================================================\n",
       "Dep. Variable:     sales_dollars_value   R-squared:                       0.985\n",
       "Model:                             OLS   Adj. R-squared:                  0.984\n",
       "Method:                  Least Squares   F-statistic:                     5974.\n",
       "Date:                 Tue, 30 Aug 2022   Prob (F-statistic):               0.00\n",
       "Time:                         12:42:58   Log-Likelihood:                 1388.2\n",
       "No. Observations:                 2080   AIC:                            -2730.\n",
       "Df Residuals:                     2057   BIC:                            -2601.\n",
       "Df Model:                           22                                         \n",
       "Covariance Type:             nonrobust                                         \n",
       "=============================================================================================\n",
       "                                coef    std err          t      P>|t|      [0.025      0.975]\n",
       "---------------------------------------------------------------------------------------------\n",
       "const                        -0.5519      0.013    -41.496      0.000      -0.578      -0.526\n",
       "total_post                    0.0287      0.005      5.707      0.000       0.019       0.039\n",
       "search_volume                 0.0528      0.011      5.018      0.000       0.032       0.073\n",
       "D                             0.6392      0.011     59.773      0.000       0.618       0.660\n",
       "Private Label                 0.2810      0.009     31.282      0.000       0.263       0.299\n",
       "No competition               -1.3927      0.009   -148.632      0.000      -1.411      -1.374\n",
       "F                            -0.1612      0.013    -12.373      0.000      -0.187      -0.136\n",
       "B                             0.0375      0.007      5.400      0.000       0.024       0.051\n",
       "H                            -0.4582      0.010    -44.078      0.000      -0.479      -0.438\n",
       "unit_price                    0.0768      0.013      5.779      0.000       0.051       0.103\n",
       "mansoon                      -0.0194      0.009     -2.227      0.026      -0.036      -0.002\n",
       "spring                       -0.0306      0.010     -3.160      0.002      -0.050      -0.012\n",
       "summer                       -0.0249      0.009     -2.841      0.005      -0.042      -0.008\n",
       "winter                       -0.0187      0.010     -1.936      0.053      -0.038       0.000\n",
       "blueberry                     0.5414      0.013     42.469      0.000       0.516       0.566\n",
       "chicken                      -0.7451      0.013    -58.404      0.000      -0.770      -0.720\n",
       "crab                         -0.0187      0.013     -1.468      0.142      -0.044       0.006\n",
       "ethnic & exotic               2.5991      0.025    104.217      0.000       2.550       2.648\n",
       "french bisque                -0.9332      0.012    -74.879      0.000      -0.958      -0.909\n",
       "gmo free                      0.4108      0.017     23.906      0.000       0.377       0.445\n",
       "highsource of protein         1.7015      0.025     68.044      0.000       1.652       1.751\n",
       "low carb                      1.0257      0.012     86.712      0.000       1.003       1.049\n",
       "low sodium                    0.1801      0.011     17.007      0.000       0.159       0.201\n",
       "low sugar                     1.3771      0.033     42.145      0.000       1.313       1.441\n",
       "no additivespreservatives     1.2918      0.017     75.109      0.000       1.258       1.326\n",
       "poultry                       1.1677      0.028     41.886      0.000       1.113       1.222\n",
       "salmon                        3.3864      0.017    195.376      0.000       3.352       3.420\n",
       "soy foods                     3.4397      0.027    126.661      0.000       3.386       3.493\n",
       "vegetarian                   -0.9119      0.023    -40.371      0.000      -0.956      -0.868\n",
       "==============================================================================\n",
       "Omnibus:                      442.916   Durbin-Watson:                   0.268\n",
       "Prob(Omnibus):                  0.000   Jarque-Bera (JB):             2861.101\n",
       "Skew:                          -0.841   Prob(JB):                         0.00\n",
       "Kurtosis:                       8.494   Cond. No.                     2.12e+16\n",
       "==============================================================================\n",
       "\n",
       "Notes:\n",
       "[1] Standard Errors assume that the covariance matrix of the errors is correctly specified.\n",
       "[2] The smallest eigenvalue is 8.88e-30. This might indicate that there are\n",
       "strong multicollinearity problems or that the design matrix is singular.\n",
       "\"\"\""
      ]
     },
     "execution_count": 315,
     "metadata": {},
     "output_type": "execute_result"
    }
   ],
   "source": [
    "lin_reg = sm.OLS(train_y,sm.add_constant(train_X)).fit()\n",
    "lin_reg.summary()"
   ]
  },
  {
   "cell_type": "code",
   "execution_count": 316,
   "metadata": {},
   "outputs": [],
   "source": [
    "import ta_lib.eda.api as eda\n",
    "import ta_lib.core.api as dataset\n",
    "import ta_lib.eda.api as ta_analysis"
   ]
  },
  {
   "cell_type": "code",
   "execution_count": 317,
   "metadata": {},
   "outputs": [],
   "source": [
    "import statsmodels.api as sm\n",
    "import numpy as np\n",
    "import pandas as pd \n",
    "import matplotlib.pyplot as plt\n",
    "import seaborn as sns\n",
    "from sklearn.metrics import r2_score\n",
    "from sklearn.metrics import mean_squared_error,mean_absolute_percentage_error\n",
    "from statsmodels.stats.outliers_influence import variance_inflation_factor\n",
    "from sklearn.model_selection import cross_val_score\n",
    "import warnings\n",
    "warnings.filterwarnings(\"ignore\", category=FutureWarning)\n",
    "from sklearn.linear_model import LinearRegression\n"
   ]
  },
  {
   "cell_type": "code",
   "execution_count": 318,
   "metadata": {},
   "outputs": [
    {
     "name": "stdout",
     "output_type": "stream",
     "text": [
      "Linear Regression Model\n",
      "--------------------------------------------------\n",
      "Train R2 0.9845893527585499\n",
      "Test R2 0.9283565244096187\n",
      "--------------------------------------------------\n",
      "Train MAPE: 0.17608959392166523\n",
      "Test MAPE: 6.4195608655544705\n",
      "Cross Val Score of MAPE:\n",
      "CV_scores: [2.33993989 1.07941894 1.14089383 1.91901406 2.21494121]\n",
      "Bias : 1.7388415868188265\n",
      "Variance: 0.594313026026358\n"
     ]
    }
   ],
   "source": [
    "def performance(X_train,y_train, X_test,y_test):\n",
    "    lin_reg = sm.OLS(y_train,sm.add_constant(X_train)).fit()\n",
    "    y_train_pred =  lin_reg.predict(sm.add_constant(X_train))\n",
    "    y_test_pred =  lin_reg.predict(sm.add_constant(X_test))\n",
    "    print('Linear Regression Model')\n",
    "    print('-'*50)\n",
    "    print('Train R2',r2_score(y_train,y_train_pred))\n",
    "    print('Test R2',r2_score(y_test,y_test_pred))\n",
    "    print('-'*50)\n",
    "    print('Train MAPE:', mean_absolute_percentage_error(y_train,y_train_pred))\n",
    "    print('Test MAPE:', mean_absolute_percentage_error(y_test,y_test_pred))\n",
    "    print('Cross Val Score of MAPE:')\n",
    "    scores = -1*cross_val_score(LinearRegression(),X_train,y_train,cv=5,\n",
    "                scoring='neg_mean_absolute_percentage_error')\n",
    "    bias  = np.mean(scores)\n",
    "    variance = np.std(scores,ddof=1)\n",
    "    print('CV_scores:',scores)\n",
    "    print('Bias :',bias)\n",
    "    print('Variance:',variance)\n",
    "performance(train_X,train_y,test_X,test_y)"
   ]
  },
  {
   "cell_type": "code",
   "execution_count": 319,
   "metadata": {},
   "outputs": [
    {
     "name": "stderr",
     "output_type": "stream",
     "text": [
      "A column-vector y was passed when a 1d array was expected. Please change the shape of y to (n_samples,), for example using ravel().\n",
      "A column-vector y was passed when a 1d array was expected. Please change the shape of y to (n_samples,), for example using ravel().\n"
     ]
    },
    {
     "name": "stdout",
     "output_type": "stream",
     "text": [
      "Random Forest Regression Model\n",
      "--------------------------------------------------\n",
      "Train R2 0.9985742571838314\n",
      "Test R2 0.8877762503203172\n",
      "--------------------------------------------------\n",
      "Train MAPE: 0.033550843164378966\n",
      "Test MAPE: 8.625263381068214\n",
      "Cross Val Score of MAPE:\n"
     ]
    },
    {
     "name": "stderr",
     "output_type": "stream",
     "text": [
      "A column-vector y was passed when a 1d array was expected. Please change the shape of y to (n_samples,), for example using ravel().\n",
      "A column-vector y was passed when a 1d array was expected. Please change the shape of y to (n_samples,), for example using ravel().\n",
      "A column-vector y was passed when a 1d array was expected. Please change the shape of y to (n_samples,), for example using ravel().\n",
      "A column-vector y was passed when a 1d array was expected. Please change the shape of y to (n_samples,), for example using ravel().\n"
     ]
    },
    {
     "name": "stdout",
     "output_type": "stream",
     "text": [
      "CV_scores: [1.58572693 1.20824579 1.54339553 1.41465192 1.4026987 ]\n",
      "Bias : 1.4309437748175688\n",
      "Variance: 0.14769971601007595\n"
     ]
    }
   ],
   "source": [
    "from sklearn.ensemble import RandomForestRegressor\n",
    "\n",
    "def performance(X_train,y_train, X_test,y_test):\n",
    "    rand_for = RandomForestRegressor(n_estimators = 10, random_state = 0)\n",
    "    rand_for.fit(X_train, y_train)\n",
    "    y_train_pred =  rand_for.predict(X_train)\n",
    "    y_test_pred =  rand_for.predict(X_test)\n",
    "    print('Random Forest Regression Model')\n",
    "    print('-'*50)\n",
    "    print('Train R2',r2_score(y_train,y_train_pred))\n",
    "    print('Test R2',r2_score(y_test,y_test_pred))\n",
    "    print('-'*50)\n",
    "    print('Train MAPE:', mean_absolute_percentage_error(y_train,y_train_pred))\n",
    "    print('Test MAPE:', mean_absolute_percentage_error(y_test,y_test_pred))\n",
    "    print('Cross Val Score of MAPE:')\n",
    "    scores = -1*cross_val_score(RandomForestRegressor(),X_train,y_train,cv=5,\n",
    "                scoring='neg_mean_absolute_percentage_error')\n",
    "    bias  = np.mean(scores)\n",
    "    variance = np.std(scores,ddof=1)\n",
    "    print('CV_scores:',scores)\n",
    "    print('Bias :',bias)\n",
    "    print('Variance:',variance)\n",
    "performance(train_X,train_y,test_X,test_y)"
   ]
  },
  {
   "cell_type": "code",
   "execution_count": 320,
   "metadata": {},
   "outputs": [
    {
     "name": "stderr",
     "output_type": "stream",
     "text": [
      "A column-vector y was passed when a 1d array was expected. Please change the shape of y to (n_samples,), for example using ravel().\n"
     ]
    },
    {
     "data": {
      "text/plain": [
       "0.8892492284981648"
      ]
     },
     "execution_count": 320,
     "metadata": {},
     "output_type": "execute_result"
    }
   ],
   "source": [
    "rand_for = RandomForestRegressor()\n",
    "rand_for.fit(train_X,train_y)\n",
    "y_pred = rand_for.predict(test_X)\n",
    "y_pred\n",
    "r2_score(test_y,y_pred)"
   ]
  },
  {
   "cell_type": "code",
   "execution_count": 321,
   "metadata": {},
   "outputs": [
    {
     "data": {
      "text/html": [
       "<div>\n",
       "<style scoped>\n",
       "    .dataframe tbody tr th:only-of-type {\n",
       "        vertical-align: middle;\n",
       "    }\n",
       "\n",
       "    .dataframe tbody tr th {\n",
       "        vertical-align: top;\n",
       "    }\n",
       "\n",
       "    .dataframe thead th {\n",
       "        text-align: right;\n",
       "    }\n",
       "</style>\n",
       "<table border=\"1\" class=\"dataframe\">\n",
       "  <thead>\n",
       "    <tr style=\"text-align: right;\">\n",
       "      <th></th>\n",
       "      <th>sales_dollars_value</th>\n",
       "    </tr>\n",
       "  </thead>\n",
       "  <tbody>\n",
       "    <tr>\n",
       "      <th>0</th>\n",
       "      <td>1.398609</td>\n",
       "    </tr>\n",
       "    <tr>\n",
       "      <th>1</th>\n",
       "      <td>1.404474</td>\n",
       "    </tr>\n",
       "    <tr>\n",
       "      <th>2</th>\n",
       "      <td>1.403922</td>\n",
       "    </tr>\n",
       "    <tr>\n",
       "      <th>3</th>\n",
       "      <td>1.404270</td>\n",
       "    </tr>\n",
       "    <tr>\n",
       "      <th>4</th>\n",
       "      <td>1.404845</td>\n",
       "    </tr>\n",
       "    <tr>\n",
       "      <th>...</th>\n",
       "      <td>...</td>\n",
       "    </tr>\n",
       "    <tr>\n",
       "      <th>629</th>\n",
       "      <td>0.862796</td>\n",
       "    </tr>\n",
       "    <tr>\n",
       "      <th>630</th>\n",
       "      <td>0.832909</td>\n",
       "    </tr>\n",
       "    <tr>\n",
       "      <th>631</th>\n",
       "      <td>0.838625</td>\n",
       "    </tr>\n",
       "    <tr>\n",
       "      <th>632</th>\n",
       "      <td>0.839749</td>\n",
       "    </tr>\n",
       "    <tr>\n",
       "      <th>633</th>\n",
       "      <td>0.846790</td>\n",
       "    </tr>\n",
       "  </tbody>\n",
       "</table>\n",
       "<p>634 rows × 1 columns</p>\n",
       "</div>"
      ],
      "text/plain": [
       "     sales_dollars_value\n",
       "0               1.398609\n",
       "1               1.404474\n",
       "2               1.403922\n",
       "3               1.404270\n",
       "4               1.404845\n",
       "..                   ...\n",
       "629             0.862796\n",
       "630             0.832909\n",
       "631             0.838625\n",
       "632             0.839749\n",
       "633             0.846790\n",
       "\n",
       "[634 rows x 1 columns]"
      ]
     },
     "execution_count": 321,
     "metadata": {},
     "output_type": "execute_result"
    }
   ],
   "source": [
    "y_pred = pd.DataFrame(y_pred)\n",
    "y_pred.rename(columns={0:'sales_dollars_value'}, inplace=True)\n",
    "y_pred"
   ]
  },
  {
   "cell_type": "code",
   "execution_count": 322,
   "metadata": {},
   "outputs": [],
   "source": [
    "test_y = sc.inverse_transform(test_y)\n",
    "y_pred = sc.inverse_transform(y_pred)"
   ]
  },
  {
   "cell_type": "code",
   "execution_count": 323,
   "metadata": {},
   "outputs": [
    {
     "data": {
      "image/png": "[encoded data removed]",
      "text/plain": [
       "<Figure size 360x360 with 1 Axes>"
      ]
     },
     "metadata": {
      "needs_background": "light"
     },
     "output_type": "display_data"
    }
   ],
   "source": [
    "%matplotlib inline\n",
    "plt.figure(figsize=(5,5))\n",
    "plt.scatter(test_y, y_pred)\n",
    "sns.regplot(test_y,y_pred)\n",
    "\n",
    "plt.xlabel('pred_y')\n",
    "plt.ylabel('actual_y')\n",
    "plt.title('actual vs predicted [Random Forest Rergression]')\n",
    "plt.savefig('fig-9.png')\n"
   ]
  },
  {
   "cell_type": "code",
   "execution_count": 324,
   "metadata": {},
   "outputs": [
    {
     "name": "stdout",
     "output_type": "stream",
     "text": [
      "Random Forest Regression Model\n",
      "--------------------------------------------------\n",
      "Train R2 1.0\n",
      "Test R2 -0.30841563195483945\n",
      "--------------------------------------------------\n",
      "Train MAPE: 1.7206407025921793e-19\n",
      "Test MAPE: 1.0012047992320248\n",
      "Cross Val Score of MAPE:\n",
      "CV_scores: [1.93585566 3.78685598 1.32393042 1.4248099  1.0867836 ]\n",
      "Bias : 1.9116471128286883\n",
      "Variance: 1.0931394606097138\n"
     ]
    }
   ],
   "source": [
    "from sklearn.tree import DecisionTreeRegressor \n",
    "\n",
    "def performance(X_train,y_train, X_test,y_test):\n",
    "    des_tree = DecisionTreeRegressor(random_state = 0)\n",
    "    des_tree.fit(X_train, y_train)\n",
    "    y_train_pred =  des_tree.predict(X_train)\n",
    "    y_test_pred =  des_tree.predict(X_test)\n",
    "    print('Random Forest Regression Model')\n",
    "    print('-'*50)\n",
    "    print('Train R2',r2_score(y_train,y_train_pred))\n",
    "    print('Test R2',r2_score(y_test,y_test_pred))\n",
    "    print('-'*50)\n",
    "    print('Train MAPE:', mean_absolute_percentage_error(y_train,y_train_pred))\n",
    "    print('Test MAPE:', mean_absolute_percentage_error(y_test,y_test_pred))\n",
    "    print('Cross Val Score of MAPE:')\n",
    "    scores = -1*cross_val_score(DecisionTreeRegressor(),X_train,y_train,cv=5,\n",
    "                scoring='neg_mean_absolute_percentage_error')\n",
    "    bias  = np.mean(scores)\n",
    "    variance = np.std(scores,ddof=1)\n",
    "    print('CV_scores:',scores)\n",
    "    print('Bias :',bias)\n",
    "    print('Variance:',variance)\n",
    "performance(train_X,train_y,test_X,test_y)"
   ]
  },
  {
   "cell_type": "code",
   "execution_count": 263,
   "metadata": {},
   "outputs": [
    {
     "data": {},
     "metadata": {},
     "output_type": "display_data"
    },
    {
     "data": {},
     "metadata": {},
     "output_type": "display_data"
    },
    {
     "data": {
      "application/vnd.holoviews_exec.v0+json": "",
      "text/html": [
       "<div id='1433'>\n",
       "  <div class=\"bk-root\" id=\"5cbf3986-92ba-4ce2-a366-316d1d77354d\" data-root-id=\"1433\"></div>\n",
       "</div>\n",
       "<script type=\"application/javascript\">(function(root) {\n",
       "  function embed_document(root) {\n",
       "    var docs_json = {\"dcda5a82-e7da-48f5-b103-0119ec35d49d\":{\"defs\":[{\"extends\":null,\"module\":null,\"name\":\"ReactiveHTML1\",\"overrides\":[],\"properties\":[]},{\"extends\":null,\"module\":null,\"name\":\"FlexBox1\",\"overrides\":[],\"properties\":[{\"default\":\"flex-start\",\"kind\":null,\"name\":\"align_content\"},{\"default\":\"flex-start\",\"kind\":null,\"name\":\"align_items\"},{\"default\":\"row\",\"kind\":null,\"name\":\"flex_direction\"},{\"default\":\"wrap\",\"kind\":null,\"name\":\"flex_wrap\"},{\"default\":\"flex-start\",\"kind\":null,\"name\":\"justify_content\"}]},{\"extends\":null,\"module\":null,\"name\":\"GridStack1\",\"overrides\":[],\"properties\":[{\"default\":\"warn\",\"kind\":null,\"name\":\"mode\"},{\"default\":null,\"kind\":null,\"name\":\"ncols\"},{\"default\":null,\"kind\":null,\"name\":\"nrows\"},{\"default\":true,\"kind\":null,\"name\":\"allow_resize\"},{\"default\":true,\"kind\":null,\"name\":\"allow_drag\"},{\"default\":[],\"kind\":null,\"name\":\"state\"}]},{\"extends\":null,\"module\":null,\"name\":\"click1\",\"overrides\":[],\"properties\":[{\"default\":\"\",\"kind\":null,\"name\":\"terminal_output\"},{\"default\":\"\",\"kind\":null,\"name\":\"debug_name\"},{\"default\":0,\"kind\":null,\"name\":\"clears\"}]},{\"extends\":null,\"module\":null,\"name\":\"NotificationAreaBase1\",\"overrides\":[],\"properties\":[{\"default\":\"bottom-right\",\"kind\":null,\"name\":\"position\"},{\"default\":0,\"kind\":null,\"name\":\"_clear\"}]},{\"extends\":null,\"module\":null,\"name\":\"NotificationArea1\",\"overrides\":[],\"properties\":[{\"default\":[],\"kind\":null,\"name\":\"notifications\"},{\"default\":\"bottom-right\",\"kind\":null,\"name\":\"position\"},{\"default\":0,\"kind\":null,\"name\":\"_clear\"},{\"default\":[{\"background\":\"#ffc107\",\"icon\":{\"className\":\"fas fa-exclamation-triangle\",\"color\":\"white\",\"tagName\":\"i\"},\"type\":\"warning\"},{\"background\":\"#007bff\",\"icon\":{\"className\":\"fas fa-info-circle\",\"color\":\"white\",\"tagName\":\"i\"},\"type\":\"info\"}],\"kind\":null,\"name\":\"types\"}]},{\"extends\":null,\"module\":null,\"name\":\"Notification\",\"overrides\":[],\"properties\":[{\"default\":null,\"kind\":null,\"name\":\"background\"},{\"default\":3000,\"kind\":null,\"name\":\"duration\"},{\"default\":null,\"kind\":null,\"name\":\"icon\"},{\"default\":\"\",\"kind\":null,\"name\":\"message\"},{\"default\":null,\"kind\":null,\"name\":\"notification_type\"},{\"default\":false,\"kind\":null,\"name\":\"_destroyed\"}]},{\"extends\":null,\"module\":null,\"name\":\"TemplateActions1\",\"overrides\":[],\"properties\":[{\"default\":0,\"kind\":null,\"name\":\"open_modal\"},{\"default\":0,\"kind\":null,\"name\":\"close_modal\"}]},{\"extends\":null,\"module\":null,\"name\":\"MaterialTemplateActions1\",\"overrides\":[],\"properties\":[{\"default\":0,\"kind\":null,\"name\":\"open_modal\"},{\"default\":0,\"kind\":null,\"name\":\"close_modal\"}]}],\"roots\":{\"references\":[{\"attributes\":{},\"id\":\"1477\",\"type\":\"AllLabels\"},{\"attributes\":{\"factors\":[\"F\",\"B\",\"french bisque\",\"H\",\"low sugar\",\"vegetarian\",\"gmo free\",\"crab\",\"poultry\",\"highsource of protein\",\"chicken\",\"low sodium\",\"Private Label\",\"unit_price\",\"mansoon\",\"winter\",\"summer\",\"spring\",\"No competition\",\"blueberry\",\"D\",\"search_volume\",\"no additivespreservatives\",\"ethnic & exotic\",\"total_post\",\"soy foods\",\"salmon\",\"low carb\"],\"tags\":[[[\"index\",\"index\",null]]]},\"id\":\"1435\",\"type\":\"FactorRange\"},{\"attributes\":{\"bottom_units\":\"screen\",\"coordinates\":null,\"fill_alpha\":0.5,\"fill_color\":\"lightgrey\",\"group\":null,\"left_units\":\"screen\",\"level\":\"overlay\",\"line_alpha\":1.0,\"line_color\":\"black\",\"line_dash\":[4,4],\"line_width\":2,\"right_units\":\"screen\",\"syncable\":false,\"top_units\":\"screen\"},\"id\":\"1458\",\"type\":\"BoxAnnotation\"},{\"attributes\":{},\"id\":\"1467\",\"type\":\"Selection\"},{\"attributes\":{\"source\":{\"id\":\"1466\"}},\"id\":\"1473\",\"type\":\"CDSView\"},{\"attributes\":{},\"id\":\"1480\",\"type\":\"AllLabels\"},{\"attributes\":{\"coordinates\":null,\"group\":null,\"text\":\"Feature Correlation with Target Function\",\"text_color\":\"black\",\"text_font_size\":\"12pt\"},\"id\":\"1438\",\"type\":\"Title\"},{\"attributes\":{},\"id\":\"1476\",\"type\":\"BasicTickFormatter\"},{\"attributes\":{\"axis\":{\"id\":\"1450\"},\"coordinates\":null,\"dimension\":1,\"grid_line_color\":null,\"group\":null,\"ticker\":null},\"id\":\"1452\",\"type\":\"Grid\"},{\"attributes\":{},\"id\":\"1444\",\"type\":\"CategoricalScale\"},{\"attributes\":{\"below\":[{\"id\":\"1446\"}],\"center\":[{\"id\":\"1449\"},{\"id\":\"1452\"}],\"height\":300,\"left\":[{\"id\":\"1450\"}],\"margin\":[5,5,5,5],\"min_border_bottom\":10,\"min_border_left\":10,\"min_border_right\":10,\"min_border_top\":10,\"renderers\":[{\"id\":\"1472\"}],\"sizing_mode\":\"fixed\",\"title\":{\"id\":\"1438\"},\"toolbar\":{\"id\":\"1459\"},\"width\":700,\"x_range\":{\"id\":\"1434\"},\"x_scale\":{\"id\":\"1442\"},\"y_range\":{\"id\":\"1435\"},\"y_scale\":{\"id\":\"1444\"}},\"id\":\"1437\",\"subtype\":\"Figure\",\"type\":\"Plot\"},{\"attributes\":{\"child\":{\"id\":\"1437\"},\"name\":\"feature_correlation\",\"title\":\"feature_correlation\"},\"id\":\"1491\",\"type\":\"Panel\"},{\"attributes\":{\"end\":0.4717705577754092,\"reset_end\":0.4717705577754092,\"reset_start\":-0.3577541321462282,\"start\":-0.3577541321462282,\"tags\":[[[\"Pearson_correlation_with_Target\",\"Pearson_correlation_with_Target\",null]]]},\"id\":\"1434\",\"type\":\"Range1d\"},{\"attributes\":{\"callback\":null,\"renderers\":[{\"id\":\"1472\"}],\"tags\":[\"hv_created\"],\"tooltips\":[[\"index\",\"@{index}\"],[\"Pearson_correlation_with_Target\",\"@{Pearson_correlation_with_Target}\"]]},\"id\":\"1436\",\"type\":\"HoverTool\"},{\"attributes\":{\"fill_color\":{\"value\":\"#30a2da\"},\"hatch_color\":{\"value\":\"#30a2da\"},\"height\":{\"value\":0.8},\"right\":{\"field\":\"Pearson_correlation_with_Target\"},\"y\":{\"field\":\"index\"}},\"id\":\"1469\",\"type\":\"HBar\"},{\"attributes\":{\"fill_alpha\":{\"value\":0.1},\"fill_color\":{\"value\":\"#30a2da\"},\"hatch_alpha\":{\"value\":0.1},\"hatch_color\":{\"value\":\"#30a2da\"},\"height\":{\"value\":0.8},\"line_alpha\":{\"value\":0.1},\"right\":{\"field\":\"Pearson_correlation_with_Target\"},\"y\":{\"field\":\"index\"}},\"id\":\"1470\",\"type\":\"HBar\"},{\"attributes\":{\"tools\":[{\"id\":\"1436\"},{\"id\":\"1453\"},{\"id\":\"1454\"},{\"id\":\"1455\"},{\"id\":\"1456\"},{\"id\":\"1457\"}]},\"id\":\"1459\",\"type\":\"Toolbar\"},{\"attributes\":{},\"id\":\"1455\",\"type\":\"WheelZoomTool\"},{\"attributes\":{},\"id\":\"1453\",\"type\":\"SaveTool\"},{\"attributes\":{},\"id\":\"1479\",\"type\":\"CategoricalTickFormatter\"},{\"attributes\":{\"axis\":{\"id\":\"1446\"},\"coordinates\":null,\"grid_line_color\":null,\"group\":null,\"ticker\":null},\"id\":\"1449\",\"type\":\"Grid\"},{\"attributes\":{},\"id\":\"1454\",\"type\":\"PanTool\"},{\"attributes\":{\"coordinates\":null,\"data_source\":{\"id\":\"1466\"},\"glyph\":{\"id\":\"1469\"},\"group\":null,\"hover_glyph\":null,\"muted_glyph\":{\"id\":\"1471\"},\"nonselection_glyph\":{\"id\":\"1470\"},\"selection_glyph\":{\"id\":\"1474\"},\"view\":{\"id\":\"1473\"}},\"id\":\"1472\",\"type\":\"GlyphRenderer\"},{\"attributes\":{\"client_comm_id\":\"6f2063f049d242adacc184ccff40c33f\",\"comm_id\":\"9a4efffa9eef41f8822101cb612fb44b\",\"plot_id\":\"1433\"},\"id\":\"1522\",\"type\":\"panel.models.comm_manager.CommManager\"},{\"attributes\":{\"margin\":[0,0,0,0],\"tabs\":[{\"id\":\"1491\"}]},\"id\":\"1433\",\"type\":\"panel.models.tabs.Tabs\"},{\"attributes\":{\"axis_label\":\"Pearson_correlation_with_Target\",\"coordinates\":null,\"formatter\":{\"id\":\"1476\"},\"group\":null,\"major_label_policy\":{\"id\":\"1477\"},\"ticker\":{\"id\":\"1447\"}},\"id\":\"1446\",\"type\":\"LinearAxis\"},{\"attributes\":{\"axis_label\":\"\",\"coordinates\":null,\"formatter\":{\"id\":\"1479\"},\"group\":null,\"major_label_policy\":{\"id\":\"1480\"},\"ticker\":{\"id\":\"1451\"}},\"id\":\"1450\",\"type\":\"CategoricalAxis\"},{\"attributes\":{},\"id\":\"1488\",\"type\":\"UnionRenderers\"},{\"attributes\":{},\"id\":\"1451\",\"type\":\"CategoricalTicker\"},{\"attributes\":{},\"id\":\"1447\",\"type\":\"BasicTicker\"},{\"attributes\":{},\"id\":\"1442\",\"type\":\"LinearScale\"},{\"attributes\":{\"data\":{\"Pearson_correlation_with_Target\":{\"__ndarray__\":\"fOuXsd140r9Ej1wzr1bQv9AIy+xNQ82/eKdritM2yr9TKHh//kPJv3WzCUNgPse/tMNPDms3w7/OOre4d2jAv8IedKOXw7+/fq4F//bzu7+KNHNyM1y1v7it/DI0L7K/cxY2YPcUo7/AkjxfpKmQv3wyxcy6ame/iCa7FnlyaT/uDzX2sS1rP+hfFb5UmXY/un9gkFErrz/y5VsOeIm7PxZjoT4Rw7w/UDm7kQ/Rwz/M6dx/rdrEP/5X5FztCM8/5P79XZg01T8+dfl0GGTYP04CaUJomtk/+hpqPunE2T8=\",\"dtype\":\"float64\",\"order\":\"little\",\"shape\":[28]},\"index\":[\"F\",\"B\",\"french bisque\",\"H\",\"low sugar\",\"vegetarian\",\"gmo free\",\"crab\",\"poultry\",\"highsource of protein\",\"chicken\",\"low sodium\",\"Private Label\",\"unit_price\",\"mansoon\",\"winter\",\"summer\",\"spring\",\"No competition\",\"blueberry\",\"D\",\"search_volume\",\"no additivespreservatives\",\"ethnic & exotic\",\"total_post\",\"soy foods\",\"salmon\",\"low carb\"]},\"selected\":{\"id\":\"1467\"},\"selection_policy\":{\"id\":\"1488\"}},\"id\":\"1466\",\"type\":\"ColumnDataSource\"},{\"attributes\":{},\"id\":\"1457\",\"type\":\"ResetTool\"},{\"attributes\":{\"overlay\":{\"id\":\"1458\"}},\"id\":\"1456\",\"type\":\"BoxZoomTool\"},{\"attributes\":{\"fill_alpha\":{\"value\":0.2},\"fill_color\":{\"value\":\"#30a2da\"},\"hatch_alpha\":{\"value\":0.2},\"hatch_color\":{\"value\":\"#30a2da\"},\"height\":{\"value\":0.8},\"line_alpha\":{\"value\":0.2},\"right\":{\"field\":\"Pearson_correlation_with_Target\"},\"y\":{\"field\":\"index\"}},\"id\":\"1471\",\"type\":\"HBar\"},{\"attributes\":{\"fill_alpha\":{\"value\":1.0},\"fill_color\":{\"value\":\"#30a2da\"},\"hatch_alpha\":{\"value\":1.0},\"hatch_color\":{\"value\":\"#30a2da\"},\"hatch_scale\":{\"value\":12.0},\"hatch_weight\":{\"value\":1.0},\"height\":{\"value\":0.8},\"left\":{\"value\":0},\"line_alpha\":{\"value\":1.0},\"line_cap\":{\"value\":\"butt\"},\"line_color\":{\"value\":\"black\"},\"line_dash\":{\"value\":[]},\"line_dash_offset\":{\"value\":0},\"line_join\":{\"value\":\"bevel\"},\"line_width\":{\"value\":1},\"right\":{\"field\":\"Pearson_correlation_with_Target\"},\"y\":{\"field\":\"index\"}},\"id\":\"1474\",\"type\":\"HBar\"}],\"root_ids\":[\"1433\",\"1522\"]},\"title\":\"Bokeh Application\",\"version\":\"2.4.3\"}};\n",
       "    var render_items = [{\"docid\":\"dcda5a82-e7da-48f5-b103-0119ec35d49d\",\"root_ids\":[\"1433\"],\"roots\":{\"1433\":\"5cbf3986-92ba-4ce2-a366-316d1d77354d\"}}];\n",
       "    root.Bokeh.embed.embed_items_notebook(docs_json, render_items);\n",
       "  }\n",
       "  if (root.Bokeh !== undefined && root.Bokeh.Panel !== undefined) {\n",
       "    embed_document(root);\n",
       "  } else {\n",
       "    var attempts = 0;\n",
       "    var timer = setInterval(function(root) {\n",
       "      if (root.Bokeh !== undefined && root.Bokeh.Panel !== undefined) {\n",
       "        clearInterval(timer);\n",
       "        embed_document(root);\n",
       "      } else if (document.readyState == \"complete\") {\n",
       "        attempts++;\n",
       "        if (attempts > 200) {\n",
       "          clearInterval(timer);\n",
       "          console.log(\"Bokeh: ERROR: Unable to run BokehJS code because BokehJS library is missing\");\n",
       "        }\n",
       "      }\n",
       "    }, 25, root)\n",
       "  }\n",
       "})(window);</script>"
      ],
      "text/plain": [
       "Tabs\n",
       "    [0] HoloViews(Bars, name='feature_correlation')"
      ]
     },
     "execution_count": 263,
     "metadata": {
      "application/vnd.holoviews_exec.v0+json": {
       "id": "1433"
      }
     },
     "output_type": "execute_result"
    }
   ],
   "source": [
    "out = eda.get_target_correlation(train_X, train_y)\n",
    "display_as_tabs([(k, v) for k,v in out.items()])"
   ]
  },
  {
   "cell_type": "code",
   "execution_count": 264,
   "metadata": {},
   "outputs": [
    {
     "name": "stdout",
     "output_type": "stream",
     "text": [
      "['total_post', 'search_volume', 'D', 'Private Label', 'No competition', 'F', 'B', 'H', 'unit_price', 'blueberry', 'chicken', 'ethnic & exotic', 'french bisque', 'gmo free', 'highsource of protein', 'low carb', 'low sodium', 'low sugar', 'no additivespreservatives', 'poultry', 'salmon', 'soy foods', 'vegetarian']\n"
     ]
    }
   ],
   "source": [
    "back_ele_features = train_X.columns.tolist()\n",
    "while(len(back_ele_features)>0):\n",
    "    features_with_constant = sm.add_constant(train_X[back_ele_features])\n",
    "    p_values = sm.OLS(train_y, features_with_constant).fit().pvalues[1:]\n",
    "    max_p_value = p_values.max()\n",
    "    if(max_p_value >= 0.05):\n",
    "        excluded_feature = p_values.idxmax()\n",
    "        back_ele_features.remove(excluded_feature)\n",
    "    else:\n",
    "        break \n",
    "print(back_ele_features)"
   ]
  },
  {
   "cell_type": "code",
   "execution_count": 265,
   "metadata": {},
   "outputs": [
    {
     "data": {
      "text/html": [
       "<table class=\"simpletable\">\n",
       "<caption>OLS Regression Results</caption>\n",
       "<tr>\n",
       "  <th>Dep. Variable:</th>    <td>sales_dollars_value</td> <th>  R-squared:         </th> <td>   0.985</td>\n",
       "</tr>\n",
       "<tr>\n",
       "  <th>Model:</th>                    <td>OLS</td>         <th>  Adj. R-squared:    </th> <td>   0.984</td>\n",
       "</tr>\n",
       "<tr>\n",
       "  <th>Method:</th>              <td>Least Squares</td>    <th>  F-statistic:       </th> <td>   7273.</td>\n",
       "</tr>\n",
       "<tr>\n",
       "  <th>Date:</th>              <td>Tue, 30 Aug 2022</td>   <th>  Prob (F-statistic):</th>  <td>  0.00</td> \n",
       "</tr>\n",
       "<tr>\n",
       "  <th>Time:</th>                  <td>11:50:26</td>       <th>  Log-Likelihood:    </th> <td>  1382.3</td>\n",
       "</tr>\n",
       "<tr>\n",
       "  <th>No. Observations:</th>       <td>  2080</td>        <th>  AIC:               </th> <td>  -2727.</td>\n",
       "</tr>\n",
       "<tr>\n",
       "  <th>Df Residuals:</th>           <td>  2061</td>        <th>  BIC:               </th> <td>  -2619.</td>\n",
       "</tr>\n",
       "<tr>\n",
       "  <th>Df Model:</th>               <td>    18</td>        <th>                     </th>     <td> </td>   \n",
       "</tr>\n",
       "<tr>\n",
       "  <th>Covariance Type:</th>       <td>nonrobust</td>      <th>                     </th>     <td> </td>   \n",
       "</tr>\n",
       "</table>\n",
       "<table class=\"simpletable\">\n",
       "<tr>\n",
       "              <td></td>                 <th>coef</th>     <th>std err</th>      <th>t</th>      <th>P>|t|</th>  <th>[0.025</th>    <th>0.975]</th>  \n",
       "</tr>\n",
       "<tr>\n",
       "  <th>const</th>                     <td>   -0.5707</td> <td>    0.014</td> <td>  -41.523</td> <td> 0.000</td> <td>   -0.598</td> <td>   -0.544</td>\n",
       "</tr>\n",
       "<tr>\n",
       "  <th>total_post</th>                <td>    0.0272</td> <td>    0.005</td> <td>    5.476</td> <td> 0.000</td> <td>    0.017</td> <td>    0.037</td>\n",
       "</tr>\n",
       "<tr>\n",
       "  <th>search_volume</th>             <td>    0.0549</td> <td>    0.010</td> <td>    5.284</td> <td> 0.000</td> <td>    0.035</td> <td>    0.075</td>\n",
       "</tr>\n",
       "<tr>\n",
       "  <th>D</th>                         <td>    0.6463</td> <td>    0.014</td> <td>   45.772</td> <td> 0.000</td> <td>    0.619</td> <td>    0.674</td>\n",
       "</tr>\n",
       "<tr>\n",
       "  <th>Private Label</th>             <td>    0.2727</td> <td>    0.008</td> <td>   35.323</td> <td> 0.000</td> <td>    0.258</td> <td>    0.288</td>\n",
       "</tr>\n",
       "<tr>\n",
       "  <th>No competition</th>            <td>   -1.3949</td> <td>    0.009</td> <td> -151.477</td> <td> 0.000</td> <td>   -1.413</td> <td>   -1.377</td>\n",
       "</tr>\n",
       "<tr>\n",
       "  <th>F</th>                         <td>   -0.1722</td> <td>    0.018</td> <td>   -9.798</td> <td> 0.000</td> <td>   -0.207</td> <td>   -0.138</td>\n",
       "</tr>\n",
       "<tr>\n",
       "  <th>B</th>                         <td>    0.0444</td> <td>    0.011</td> <td>    4.026</td> <td> 0.000</td> <td>    0.023</td> <td>    0.066</td>\n",
       "</tr>\n",
       "<tr>\n",
       "  <th>H</th>                         <td>   -0.4493</td> <td>    0.013</td> <td>  -34.194</td> <td> 0.000</td> <td>   -0.475</td> <td>   -0.424</td>\n",
       "</tr>\n",
       "<tr>\n",
       "  <th>unit_price</th>                <td>    0.0787</td> <td>    0.013</td> <td>    5.919</td> <td> 0.000</td> <td>    0.053</td> <td>    0.105</td>\n",
       "</tr>\n",
       "<tr>\n",
       "  <th>blueberry</th>                 <td>    0.5459</td> <td>    0.012</td> <td>   44.404</td> <td> 0.000</td> <td>    0.522</td> <td>    0.570</td>\n",
       "</tr>\n",
       "<tr>\n",
       "  <th>chicken</th>                   <td>   -0.7471</td> <td>    0.013</td> <td>  -58.900</td> <td> 0.000</td> <td>   -0.772</td> <td>   -0.722</td>\n",
       "</tr>\n",
       "<tr>\n",
       "  <th>ethnic & exotic</th>           <td>    2.5975</td> <td>    0.025</td> <td>  104.620</td> <td> 0.000</td> <td>    2.549</td> <td>    2.646</td>\n",
       "</tr>\n",
       "<tr>\n",
       "  <th>french bisque</th>             <td>   -0.9250</td> <td>    0.015</td> <td>  -63.189</td> <td> 0.000</td> <td>   -0.954</td> <td>   -0.896</td>\n",
       "</tr>\n",
       "<tr>\n",
       "  <th>gmo free</th>                  <td>    0.4179</td> <td>    0.019</td> <td>   21.988</td> <td> 0.000</td> <td>    0.381</td> <td>    0.455</td>\n",
       "</tr>\n",
       "<tr>\n",
       "  <th>highsource of protein</th>     <td>    1.7047</td> <td>    0.025</td> <td>   68.412</td> <td> 0.000</td> <td>    1.656</td> <td>    1.754</td>\n",
       "</tr>\n",
       "<tr>\n",
       "  <th>low carb</th>                  <td>    1.0277</td> <td>    0.012</td> <td>   84.642</td> <td> 0.000</td> <td>    1.004</td> <td>    1.051</td>\n",
       "</tr>\n",
       "<tr>\n",
       "  <th>low sodium</th>                <td>    0.1699</td> <td>    0.012</td> <td>   14.730</td> <td> 0.000</td> <td>    0.147</td> <td>    0.193</td>\n",
       "</tr>\n",
       "<tr>\n",
       "  <th>low sugar</th>                 <td>    1.3801</td> <td>    0.033</td> <td>   42.219</td> <td> 0.000</td> <td>    1.316</td> <td>    1.444</td>\n",
       "</tr>\n",
       "<tr>\n",
       "  <th>no additivespreservatives</th> <td>    1.2908</td> <td>    0.017</td> <td>   75.840</td> <td> 0.000</td> <td>    1.257</td> <td>    1.324</td>\n",
       "</tr>\n",
       "<tr>\n",
       "  <th>poultry</th>                   <td>    1.1695</td> <td>    0.028</td> <td>   42.168</td> <td> 0.000</td> <td>    1.115</td> <td>    1.224</td>\n",
       "</tr>\n",
       "<tr>\n",
       "  <th>salmon</th>                    <td>    3.3894</td> <td>    0.017</td> <td>  195.705</td> <td> 0.000</td> <td>    3.355</td> <td>    3.423</td>\n",
       "</tr>\n",
       "<tr>\n",
       "  <th>soy foods</th>                 <td>    3.4432</td> <td>    0.027</td> <td>  126.795</td> <td> 0.000</td> <td>    3.390</td> <td>    3.496</td>\n",
       "</tr>\n",
       "<tr>\n",
       "  <th>vegetarian</th>                <td>   -0.9092</td> <td>    0.023</td> <td>  -40.293</td> <td> 0.000</td> <td>   -0.953</td> <td>   -0.865</td>\n",
       "</tr>\n",
       "</table>\n",
       "<table class=\"simpletable\">\n",
       "<tr>\n",
       "  <th>Omnibus:</th>       <td>450.928</td> <th>  Durbin-Watson:     </th> <td>   0.266</td>\n",
       "</tr>\n",
       "<tr>\n",
       "  <th>Prob(Omnibus):</th> <td> 0.000</td>  <th>  Jarque-Bera (JB):  </th> <td>2921.140</td>\n",
       "</tr>\n",
       "<tr>\n",
       "  <th>Skew:</th>          <td>-0.858</td>  <th>  Prob(JB):          </th> <td>    0.00</td>\n",
       "</tr>\n",
       "<tr>\n",
       "  <th>Kurtosis:</th>      <td> 8.546</td>  <th>  Cond. No.          </th> <td>3.06e+16</td>\n",
       "</tr>\n",
       "</table><br/><br/>Notes:<br/>[1] Standard Errors assume that the covariance matrix of the errors is correctly specified.<br/>[2] The smallest eigenvalue is 4.04e-30. This might indicate that there are<br/>strong multicollinearity problems or that the design matrix is singular."
      ],
      "text/plain": [
       "<class 'statsmodels.iolib.summary.Summary'>\n",
       "\"\"\"\n",
       "                             OLS Regression Results                            \n",
       "===============================================================================\n",
       "Dep. Variable:     sales_dollars_value   R-squared:                       0.985\n",
       "Model:                             OLS   Adj. R-squared:                  0.984\n",
       "Method:                  Least Squares   F-statistic:                     7273.\n",
       "Date:                 Tue, 30 Aug 2022   Prob (F-statistic):               0.00\n",
       "Time:                         11:50:26   Log-Likelihood:                 1382.3\n",
       "No. Observations:                 2080   AIC:                            -2727.\n",
       "Df Residuals:                     2061   BIC:                            -2619.\n",
       "Df Model:                           18                                         \n",
       "Covariance Type:             nonrobust                                         \n",
       "=============================================================================================\n",
       "                                coef    std err          t      P>|t|      [0.025      0.975]\n",
       "---------------------------------------------------------------------------------------------\n",
       "const                        -0.5707      0.014    -41.523      0.000      -0.598      -0.544\n",
       "total_post                    0.0272      0.005      5.476      0.000       0.017       0.037\n",
       "search_volume                 0.0549      0.010      5.284      0.000       0.035       0.075\n",
       "D                             0.6463      0.014     45.772      0.000       0.619       0.674\n",
       "Private Label                 0.2727      0.008     35.323      0.000       0.258       0.288\n",
       "No competition               -1.3949      0.009   -151.477      0.000      -1.413      -1.377\n",
       "F                            -0.1722      0.018     -9.798      0.000      -0.207      -0.138\n",
       "B                             0.0444      0.011      4.026      0.000       0.023       0.066\n",
       "H                            -0.4493      0.013    -34.194      0.000      -0.475      -0.424\n",
       "unit_price                    0.0787      0.013      5.919      0.000       0.053       0.105\n",
       "blueberry                     0.5459      0.012     44.404      0.000       0.522       0.570\n",
       "chicken                      -0.7471      0.013    -58.900      0.000      -0.772      -0.722\n",
       "ethnic & exotic               2.5975      0.025    104.620      0.000       2.549       2.646\n",
       "french bisque                -0.9250      0.015    -63.189      0.000      -0.954      -0.896\n",
       "gmo free                      0.4179      0.019     21.988      0.000       0.381       0.455\n",
       "highsource of protein         1.7047      0.025     68.412      0.000       1.656       1.754\n",
       "low carb                      1.0277      0.012     84.642      0.000       1.004       1.051\n",
       "low sodium                    0.1699      0.012     14.730      0.000       0.147       0.193\n",
       "low sugar                     1.3801      0.033     42.219      0.000       1.316       1.444\n",
       "no additivespreservatives     1.2908      0.017     75.840      0.000       1.257       1.324\n",
       "poultry                       1.1695      0.028     42.168      0.000       1.115       1.224\n",
       "salmon                        3.3894      0.017    195.705      0.000       3.355       3.423\n",
       "soy foods                     3.4432      0.027    126.795      0.000       3.390       3.496\n",
       "vegetarian                   -0.9092      0.023    -40.293      0.000      -0.953      -0.865\n",
       "==============================================================================\n",
       "Omnibus:                      450.928   Durbin-Watson:                   0.266\n",
       "Prob(Omnibus):                  0.000   Jarque-Bera (JB):             2921.140\n",
       "Skew:                          -0.858   Prob(JB):                         0.00\n",
       "Kurtosis:                       8.546   Cond. No.                     3.06e+16\n",
       "==============================================================================\n",
       "\n",
       "Notes:\n",
       "[1] Standard Errors assume that the covariance matrix of the errors is correctly specified.\n",
       "[2] The smallest eigenvalue is 4.04e-30. This might indicate that there are\n",
       "strong multicollinearity problems or that the design matrix is singular.\n",
       "\"\"\""
      ]
     },
     "execution_count": 265,
     "metadata": {},
     "output_type": "execute_result"
    }
   ],
   "source": [
    "lin_reg_be = sm.OLS(train_y,sm.add_constant(train_X[back_ele_features])).fit()\n",
    "lin_reg_be.summary()"
   ]
  },
  {
   "cell_type": "code",
   "execution_count": 266,
   "metadata": {},
   "outputs": [
    {
     "name": "stderr",
     "output_type": "stream",
     "text": [
      "A column-vector y was passed when a 1d array was expected. Please change the shape of y to (n_samples,), for example using ravel().\n"
     ]
    },
    {
     "name": "stdout",
     "output_type": "stream",
     "text": [
      "Random Forest Regression Model\n",
      "--------------------------------------------------\n",
      "Train R2 0.9984740105165862\n",
      "Test R2 -0.3084156327358307\n",
      "--------------------------------------------------\n",
      "Train MAPE: 0.03807952788596517\n",
      "Test MAPE: 1.0010696592285304\n",
      "Cross Val Score of MAPE:\n"
     ]
    },
    {
     "name": "stderr",
     "output_type": "stream",
     "text": [
      "A column-vector y was passed when a 1d array was expected. Please change the shape of y to (n_samples,), for example using ravel().\n",
      "A column-vector y was passed when a 1d array was expected. Please change the shape of y to (n_samples,), for example using ravel().\n",
      "A column-vector y was passed when a 1d array was expected. Please change the shape of y to (n_samples,), for example using ravel().\n",
      "A column-vector y was passed when a 1d array was expected. Please change the shape of y to (n_samples,), for example using ravel().\n",
      "A column-vector y was passed when a 1d array was expected. Please change the shape of y to (n_samples,), for example using ravel().\n"
     ]
    },
    {
     "name": "stdout",
     "output_type": "stream",
     "text": [
      "CV_scores: [1.53849229 1.12988269 1.56409968 1.46095333 1.38860165]\n",
      "Bias : 1.416405928904013\n",
      "Variance: 0.17433562348698173\n"
     ]
    }
   ],
   "source": [
    "performance(train_X[back_ele_features],train_y,test_X[back_ele_features],test_y)"
   ]
  },
  {
   "cell_type": "markdown",
   "metadata": {},
   "source": [
    "Some sample pipelines showcasing how to create column specific pipelines and integrating them overall is presented below\n",
    "\n",
    "- Commonly target encoding is done for categorical variables with too many levels.\n",
    "- We also group sparse levels. For fewer levels one hot encoding/label encoding is preferred.\n",
    "- If there is one dominant level, we can use binary encoding.\n",
    "- This will go into production code"
   ]
  },
  {
   "cell_type": "raw",
   "metadata": {},
   "source": [
    "tgt_enc_simple_impt = Pipeline([\n",
    "    ('target_encoding', TargetEncoder(return_df=False)),\n",
    "    ('simple_impute', SimpleImputer(strategy='most_frequent')),\n",
    "])\n",
    "\n",
    "\n",
    "# NOTE: the list of transformations here are not sequential but weighted \n",
    "# (if multiple transforms are specified for a particular column)\n",
    "# for sequential transforms use a pipeline as shown above.\n",
    "features_transformer = ColumnTransformer([\n",
    "    \n",
    "    ## categorical columns\n",
    "    ('tgt_enc', TargetEncoder(return_df=False),\n",
    "     list(set(cat_columns) - set(['technology', 'functional_status', 'platforms']))),\n",
    "    \n",
    "    # NOTE: if the same column gets repeated, then they are weighed in the final output\n",
    "    # If we want a sequence of operations, then we use a pipeline but that doesen't YET support\n",
    "    # get_feature_names. \n",
    "    ('tgt_enc_sim_impt', tgt_enc_simple_impt, ['technology', 'functional_status', 'platforms']),\n",
    "        \n",
    "    ## numeric columns\n",
    "    ('med_enc', SimpleImputer(strategy='median'), num_columns),\n",
    "    \n",
    "])\n"
   ]
  },
  {
   "cell_type": "markdown",
   "metadata": {},
   "source": [
    "**Dev notes(Encoding):**\n",
    "<details>\n",
    "\n",
    "    Some common practices followed in Categorical Feature Encoding are\n",
    "    * For categorical variables with too many levels, target encoding can be done.\n",
    "    * For fewer levels, one hot encoding can be done.\n",
    "    * If one very dominant level is observed, binary encoding can be used.\n",
    "    \n",
    "    \n",
    "</details>"
   ]
  },
  {
   "cell_type": "markdown",
   "metadata": {},
   "source": [
    "## 3.2 Feature analysis\n",
    "\n",
    "Using the pipeline above analyze the features and decide on additional features to add/remove from the pipeline. This section will not be part of the production code, unless input data drifts etc. are explicitly demanded in the project.\n",
    "\n",
    "Here we are primarily focused on feature selection/elimination based on business rules, prior knowledge, data analysis.\n",
    "\n",
    "**We are not building any models at this point.**\n"
   ]
  },
  {
   "cell_type": "markdown",
   "metadata": {},
   "source": [
    "- we create some sample data to analyze that we assume represent the population\n",
    "- train the features transformer and do the analysis as below"
   ]
  },
  {
   "cell_type": "raw",
   "metadata": {},
   "source": [
    "sample_X = train_X.sample(frac=0.1, random_state=context.random_seed)\n",
    "sample_y = train_y.loc[sample_X.index]\n",
    "\n",
    "sample_train_X = get_dataframe(\n",
    "    features_transformer.fit_transform(sample_X, sample_y), \n",
    "    get_feature_names_from_column_transformer(features_transformer)\n",
    ")\n",
    "\n",
    "# nothing to do for target\n",
    "sample_train_y = sample_y"
   ]
  },
  {
   "cell_type": "markdown",
   "metadata": {},
   "source": [
    "Running the features transformer on the complete data"
   ]
  },
  {
   "cell_type": "raw",
   "metadata": {},
   "source": [
    "train_X = get_dataframe(\n",
    "    features_transformer.fit_transform(train_X, train_y), \n",
    "    get_feature_names_from_column_transformer(features_transformer)\n",
    ")"
   ]
  },
  {
   "cell_type": "raw",
   "metadata": {},
   "source": [
    "### 3.2.1 Univariate\n",
    "\n",
    "\n",
    "- Look at each variable independently. This is useful if your models have assumptions on the distribution and/or bounds on the features/target"
   ]
  },
  {
   "cell_type": "code",
   "execution_count": null,
   "metadata": {},
   "outputs": [],
   "source": [
    "out = eda.get_density_plots(train_X, cols=['brand', 'condition'])\n",
    "out"
   ]
  },
  {
   "cell_type": "code",
   "execution_count": null,
   "metadata": {},
   "outputs": [],
   "source": [
    "# save the plots are html\n",
    "reports.create_report({'univariate': out}, name='feature_analysis_univariate')"
   ]
  },
  {
   "cell_type": "markdown",
   "metadata": {},
   "source": [
    "A report containing the above plot is available [here](https://drive.google.com/file/d/16ntqUc_zvpg0at5pTtO-ljBjw5UVGFnp/view?usp=sharing)\n"
   ]
  },
  {
   "cell_type": "markdown",
   "metadata": {},
   "source": [
    "Alternatively, the above plots can be generated as a single html as below. The output from this is available [here](https://drive.google.com/file/d/1vUaCcs1PJ4IYo1em9-eZIEj9WuDsnFKT/view?usp=sharing)"
   ]
  },
  {
   "cell_type": "code",
   "execution_count": null,
   "metadata": {},
   "outputs": [],
   "source": [
    "reports.feature_analysis(train_X,'./feature_analysis_report.html')"
   ]
  },
  {
   "cell_type": "markdown",
   "metadata": {},
   "source": [
    "### 3.2.2 Bivariate - mutual interactions"
   ]
  },
  {
   "cell_type": "markdown",
   "metadata": {},
   "source": [
    "- Find columns with high correlations and drop them"
   ]
  },
  {
   "cell_type": "code",
   "execution_count": null,
   "metadata": {},
   "outputs": [],
   "source": [
    "out = eda.get_correlation_table(train_X)\n",
    "out[out[\"Abs Corr Coef\"] > 0.6]"
   ]
  },
  {
   "cell_type": "code",
   "execution_count": null,
   "metadata": {},
   "outputs": [],
   "source": [
    "# channel and source_channel highly correlated. So discarding source_channel\n",
    "# brand and manufacturer are almost same so discarding manufacturer.\n",
    "# Similarly keeping sku between inventory and sku\n",
    "# Similarly keeping condition between conditions and ext_grade\n",
    "# Similarly keeping model_family between platforms, ext_model_family and model_family\n",
    "# Discarding selling price & selling cost as they are multiples of unit price/cost & quantity.\n",
    "# Discarding gp as it is the of selling price and selling cost\n",
    "# order_no, line, invoice_no & customername cannot be IDVs\n",
    "curated_columns = list(\n",
    "    set(train_X.columns.to_list()) \n",
    "    - set(['manufacturer', 'inventory_id', 'ext_grade', 'source_channel',\n",
    "           'tgt_enc_iter_impt_platforms', 'ext_model_family',\n",
    "           'order_no', 'line', 'inventory_id',\n",
    "           'gp', 'selling_price', 'selling_cost','invoice_no','customername'])\n",
    ")\n",
    "\n",
    "train_X = train_X[curated_columns]\n",
    "\n",
    "out = eda.get_correlation_table(train_X)\n",
    "out[out[\"Abs Corr Coef\"] > 0.6]"
   ]
  },
  {
   "cell_type": "code",
   "execution_count": null,
   "metadata": {},
   "outputs": [],
   "source": [
    "out = eda.get_bivariate_plots(train_X, x_cols=['brand'], y_cols=['color'])\n",
    "out"
   ]
  },
  {
   "cell_type": "code",
   "execution_count": null,
   "metadata": {},
   "outputs": [],
   "source": [
    "%%time\n",
    "# create reports as needed\n",
    "cols = train_X.columns.to_list()\n",
    "all_plots = {}\n",
    "for ii, col1 in enumerate(cols): \n",
    "    for jj in range(ii+1, len(cols)):\n",
    "        col2 = cols[jj]\n",
    "        out = eda.get_bivariate_plots(train_X, x_cols=[col1], y_cols=[col2])\n",
    "        all_plots.update({f'{col2} vs {col1}': out})\n",
    "\n",
    "reports.create_report(all_plots, name='feature_analysis_bivariate')"
   ]
  },
  {
   "cell_type": "markdown",
   "metadata": {},
   "source": [
    "A report containing the bivariate plot is available [here](https://drive.google.com/file/d/1WSGT3586tY-rOmZ57xGILbmL5ll9cSVT/view?usp=sharing)\n",
    "\n",
    "Alternatively, the above plots can be generated as a single html as below. The output from this is available [here](https://drive.google.com/file/d/1A2fz_bjYv8I3iaFDT75JQSDKeJEXxCtp/view?usp=sharing)"
   ]
  },
  {
   "cell_type": "code",
   "execution_count": null,
   "metadata": {},
   "outputs": [],
   "source": [
    "reports.feature_interactions(train_X,'./feature_interaction_report.html')"
   ]
  },
  {
   "cell_type": "markdown",
   "metadata": {},
   "source": [
    "### 3.2.3 Key Drivers - Interaction with Target variable"
   ]
  },
  {
   "cell_type": "code",
   "execution_count": null,
   "metadata": {},
   "outputs": [],
   "source": [
    "out = eda.get_target_correlation(train_X, train_y)\n",
    "display_as_tabs([(k, v) for k,v in out.items()])"
   ]
  },
  {
   "cell_type": "code",
   "execution_count": null,
   "metadata": {},
   "outputs": [],
   "source": [
    "train_y['unit_price']"
   ]
  },
  {
   "cell_type": "code",
   "execution_count": null,
   "metadata": {},
   "outputs": [],
   "source": [
    "out = eda.get_feature_importances(train_X, train_y, y_continuous=True)\n",
    "display_as_tabs([(k, v) for k,v in out.items()])"
   ]
  },
  {
   "cell_type": "markdown",
   "metadata": {},
   "source": [
    "Key drivers report like feature importance, bivariate plots can be obtained as below"
   ]
  },
  {
   "cell_type": "code",
   "execution_count": null,
   "metadata": {},
   "outputs": [],
   "source": [
    "reports.key_drivers(train_X,train_y, './key_drivers_report.html', y_continuous=True)"
   ]
  },
  {
   "cell_type": "markdown",
   "metadata": {},
   "source": [
    "**Dev Notes**\n",
    "<details>\n",
    "    \n",
    "- The SHAP plots and bivariate plots in key drivers reports can be obtained by including quick=False as a parameter to key_drivers function call. \n",
    "- SHAP plots and bivariate plots often take long depending on data shape.\n",
    "- The plot with shap is present [here](https://drive.google.com/file/d/1JOTMBLiv3LEqZ-kxZz0RokW9v5UyiGva/view?usp=sharing)\n",
    "\n",
    "</details>"
   ]
  },
  {
   "cell_type": "markdown",
   "metadata": {},
   "source": [
    "\n",
    "All the plots like feature analysis, interaction, key drivers can be obtained as a single plot using data exploration method as shown below. The output from this is available [here](https://drive.google.com/file/d/1209MzmSSEhiTYuPfHpaVXFXUVbkaJm0B/view?usp=sharing)"
   ]
  },
  {
   "cell_type": "code",
   "execution_count": null,
   "metadata": {},
   "outputs": [],
   "source": [
    "reports.data_exploration(train_X,train_y,'./data_exploration_report.html', y_continuous=True)"
   ]
  },
  {
   "cell_type": "code",
   "execution_count": null,
   "metadata": {},
   "outputs": [],
   "source": [
    "# saving the list of relevant columns\n",
    "save_pipeline(curated_columns, op.abspath(op.join(artifacts_folder, 'curated_columns.joblib')))\n",
    "\n",
    "# save the feature pipeline\n",
    "save_pipeline(features_transformer, op.abspath(op.join(artifacts_folder, 'features.joblib')))"
   ]
  },
  {
   "cell_type": "markdown",
   "metadata": {},
   "source": [
    "# 4 Modelling"
   ]
  },
  {
   "cell_type": "markdown",
   "metadata": {},
   "source": [
    "## 4.1 Modelling - Linear Regression"
   ]
  },
  {
   "cell_type": "markdown",
   "metadata": {},
   "source": [
    "### 4.1.1 Feature Selection(Specific to Regression)\n",
    "\n",
    "- Selecting Features specific to regression\n",
    "- VIF : measure of the amount of multi-collinearity in a set of multiple regressor variables. \n",
    "- On a case to case basis VIF thresholds change. Generally 5 or 10 are acceptable levels.\n",
    "- Usually on a recursive basis when removing the most collinear variable, there can be shuffle in VIF. \n",
    "- Often this section will not be part of the production code."
   ]
  },
  {
   "cell_type": "code",
   "execution_count": null,
   "metadata": {},
   "outputs": [],
   "source": [
    "cols = list(train_X.columns)\n",
    "vif = eda.calc_vif(train_X)\n",
    "while max(vif.VIF) > 15:\n",
    "    #removing the largest variable from VIF\n",
    "    cols.remove(vif[(vif.VIF==vif.VIF.max())].variables.tolist()[0])\n",
    "    vif = eda.calc_vif(train_X[cols])"
   ]
  },
  {
   "cell_type": "code",
   "execution_count": null,
   "metadata": {},
   "outputs": [],
   "source": [
    "reg_vars = vif.query('VIF < 15').variables\n",
    "reg_vars = list(reg_vars)"
   ]
  },
  {
   "cell_type": "markdown",
   "metadata": {},
   "source": [
    "### 4.1.2 Data transformations"
   ]
  },
  {
   "cell_type": "code",
   "execution_count": null,
   "metadata": {},
   "outputs": [],
   "source": [
    "# Custom Transformations like these can be utilised\n",
    "def _custom_data_transform(df, cols2keep=None):\n",
    "    \"\"\"Transformation to drop some columns in the data\n",
    "    \n",
    "    Parameters\n",
    "    ----------\n",
    "        df - pd.DataFrame\n",
    "        cols2keep - columns to keep in the dataframe\n",
    "    \"\"\"\n",
    "    cols2keep = cols2keep or []\n",
    "    if len(cols2keep):\n",
    "        return (df\n",
    "                .select_columns(cols2keep))\n",
    "    else:\n",
    "        return df"
   ]
  },
  {
   "cell_type": "markdown",
   "metadata": {},
   "source": [
    "### 4.1.3 Model training pipeline\n",
    "\n",
    "- Here we focus on creating a collection of pipelines that can be used for training respective models.\n",
    "- Each model pipeline will essentially be of the form\n",
    "```\n",
    "[\n",
    "('preprocessing', preprocessing_pipeline),\n",
    "('feature_selection', feature_selection_pipeline),\n",
    "('estimator', estimator),\n",
    "]\n",
    "```"
   ]
  },
  {
   "cell_type": "markdown",
   "metadata": {},
   "source": [
    "### 4.1.4 Model Pipeline Build\n",
    "\n",
    "- This will be part of the production code (training only)."
   ]
  },
  {
   "cell_type": "code",
   "execution_count": null,
   "metadata": {},
   "outputs": [],
   "source": [
    "reg_ppln_ols = Pipeline([\n",
    "    ('',FunctionTransformer(_custom_data_transform, kw_args={'cols2keep':reg_vars})),\n",
    "    ('estimator', SKLStatsmodelOLS())\n",
    "])\n",
    "reg_ppln_ols.fit(train_X, train_y.values.ravel())\n"
   ]
  },
  {
   "cell_type": "code",
   "execution_count": null,
   "metadata": {},
   "outputs": [],
   "source": [
    "reg_ppln_ols['estimator'].summary()"
   ]
  },
  {
   "cell_type": "markdown",
   "metadata": {},
   "source": [
    "### 4.1.5 Model Evaluation(Linear Model)\n",
    "\n",
    "This will be part of the production code."
   ]
  },
  {
   "cell_type": "code",
   "execution_count": null,
   "metadata": {},
   "outputs": [],
   "source": [
    "reg_ppln = Pipeline([\n",
    "    ('', FunctionTransformer(_custom_data_transform, kw_args={'cols2keep':reg_vars})),\n",
    "    ('Linear Regression', SKLStatsmodelOLS())\n",
    "])\n",
    "\n",
    "test_X = get_dataframe(\n",
    "    features_transformer.transform(test_X), \n",
    "    get_feature_names_from_column_transformer(features_transformer)\n",
    ")\n",
    "test_X = test_X[curated_columns]"
   ]
  },
  {
   "cell_type": "code",
   "execution_count": null,
   "metadata": {},
   "outputs": [],
   "source": [
    "reg_linear_report = RegressionReport(model=reg_ppln, x_train=train_X, y_train=train_y, x_test= test_X, y_test= test_y, refit=True)\n",
    "reg_linear_report.get_report(include_shap=False, file_path='regression_linear_model_report')"
   ]
  },
  {
   "cell_type": "markdown",
   "metadata": {},
   "source": [
    "**Dev Notes**\n",
    "Use SHAP for variable interpretability.\n",
    "<details>\n",
    "\n",
    "    1. Use SHAP=True to generate variable interpretability plots in the report\n",
    "    2. SHAP is recommended for non parameteric models such as RF, xgboost.\n",
    "    3. However, SHAP reports are time consuming depending on no.of records and model complexity.\n",
    "    \n",
    "A sample of regerssion report with SHAP can be found [here](https://drive.google.com/file/d/18RlQTsT1ze09Cgz-qpb4ha_cvyWbN5F5/view?usp=sharing).\n",
    "</details>"
   ]
  },
  {
   "cell_type": "markdown",
   "metadata": {},
   "source": [
    "### 4.1.6 Residual Analysis\n",
    "- After scoring the model, it is recommended to do a residual analysis to know the distribution of errors\n",
    "- we took a threshold of 30% above which it is marked as over prediction or underprediction\n",
    "- This will not be part of the production code."
   ]
  },
  {
   "cell_type": "code",
   "execution_count": null,
   "metadata": {},
   "outputs": [],
   "source": [
    "threshold=0.3\n",
    "residual_analysis = test_X.copy()\n",
    "residual_analysis['prediction'] = reg_ppln_ols.predict(test_X)\n",
    "residual_analysis['actuals'] = test_y.reset_index(drop = True).iloc[:,0].values\n",
    "residual_analysis['forecast_flag'] = 'good'\n",
    "residual_analysis.loc[((residual_analysis['prediction'] > (1+threshold) * residual_analysis['actuals'])\\\n",
    "                       & (residual_analysis['actuals']>100)),'forecast_flag'] = 'over predict'\n",
    "residual_analysis.loc[((residual_analysis['prediction'] < (1-threshold) * residual_analysis['actuals'])\\\n",
    "                       & (residual_analysis['actuals']>100)),'forecast_flag'] = 'under predict'"
   ]
  },
  {
   "cell_type": "code",
   "execution_count": null,
   "metadata": {},
   "outputs": [],
   "source": [
    "residual_analysis.hvplot.kde(y=\"unit_cost\",by=\"forecast_flag\", ## Grouping by Predictions\n",
    "                                width=800, height=400,\n",
    "                                alpha=0.7,\n",
    "                                ylabel=\"density\",\n",
    "                                xlabel=\"unit_cost\",\n",
    "                                title=f'unit cost(density)',legend='top_right')"
   ]
  },
  {
   "cell_type": "markdown",
   "metadata": {},
   "source": [
    "- From the above plot we can infer that the higher \"over predictions\" are happening for unit_cost > 200.\n",
    "- similarly, the higher \"under predictions\" are happening for unit_cost is zero.\n",
    "\n",
    "This can help us tune the model by a separate model for unit_cost > 200\n"
   ]
  },
  {
   "cell_type": "markdown",
   "metadata": {},
   "source": [
    "# 4.2 Modelling - XGBoost"
   ]
  },
  {
   "cell_type": "markdown",
   "metadata": {},
   "source": [
    "## 4.2.1 Model training pipeline\n",
    "\n",
    "Here we focus on creating a collection of pipelines that can be used for tranining respective models.\n",
    "\n",
    "Each model pipeline will essentially be of the form\n",
    "```\n",
    "[\n",
    "('preprocessing', preprocessing_pipeline),\n",
    "('feature_selection', feature_selection_pipeline),\n",
    "('estimator', estimator),\n",
    "]\n",
    "```"
   ]
  },
  {
   "cell_type": "markdown",
   "metadata": {},
   "source": [
    "### 4.2.2 Model Pipeline Build"
   ]
  },
  {
   "cell_type": "code",
   "execution_count": null,
   "metadata": {},
   "outputs": [],
   "source": [
    "# let's find features for some decent defaults\n",
    "estimator = XGBRegressor()\n",
    "xgb_training_pipe_init = Pipeline([\n",
    "    ('XGBoost', XGBRegressor())\n",
    "])\n",
    "xgb_training_pipe_init.fit(train_X, train_y)"
   ]
  },
  {
   "cell_type": "markdown",
   "metadata": {},
   "source": [
    "### 4.2.3 Model Tuning"
   ]
  },
  {
   "cell_type": "code",
   "execution_count": null,
   "metadata": {},
   "outputs": [],
   "source": [
    "# Understanding the Feature Importance\n",
    "%matplotlib inline\n",
    "imp = pd.DataFrame({'importance': xgb_training_pipe_init['XGBoost'].feature_importances_})\n",
    "imp.index = train_X.columns\n",
    "imp.sort_values('importance',inplace=True)\n",
    "imp.plot(kind='barh')"
   ]
  },
  {
   "cell_type": "markdown",
   "metadata": {},
   "source": [
    "'condition','model_family','days_since_last_purchase','first_time_customer','sales_person', are considered to be important and in grid search"
   ]
  },
  {
   "cell_type": "markdown",
   "metadata": {},
   "source": [
    "##### Pipeline build based on new importance features"
   ]
  },
  {
   "cell_type": "code",
   "execution_count": null,
   "metadata": {},
   "outputs": [],
   "source": [
    "# let's find features for some decent defaults\n",
    "imp_features = ['model_family','sku','unit_cost','condition','brand','business_unit']\n",
    "\n",
    "estimator = XGBRegressor()\n",
    "xgb_training_pipe2 = Pipeline([\n",
    "    ('', FunctionTransformer(_custom_data_transform, kw_args={'cols2keep':imp_features})),\n",
    "    ('XGBoost', XGBRegressor())\n",
    "])"
   ]
  },
  {
   "cell_type": "markdown",
   "metadata": {},
   "source": [
    "#### Grid Search of the Estimator"
   ]
  },
  {
   "cell_type": "code",
   "execution_count": null,
   "metadata": {},
   "outputs": [],
   "source": [
    "%%time\n",
    "parameters = {\n",
    "   'gamma':[0.03],\n",
    "   'min_child_weight':[6],\n",
    "   'learning_rate':[0.1],\n",
    "   'max_depth':[3],\n",
    "   'n_estimators':[500], \n",
    "}\n",
    "est = XGBRegressor()\n",
    "xgb_grid = GridSearchCV(est,\n",
    "                        parameters,\n",
    "                        cv = 2,\n",
    "                        n_jobs = 4,\n",
    "                        verbose=True)\n",
    "\n",
    "xgb_grid.fit(train_X, train_y)\n",
    "\n",
    "print(xgb_grid.best_score_)\n",
    "print(xgb_grid.best_params_)"
   ]
  },
  {
   "cell_type": "markdown",
   "metadata": {},
   "source": [
    "#### Pipeline Build using the best estimator"
   ]
  },
  {
   "cell_type": "code",
   "execution_count": null,
   "metadata": {},
   "outputs": [],
   "source": [
    "xgb_pipeline_final = Pipeline([\n",
    "    ('', FunctionTransformer(_custom_data_transform, kw_args={'cols2keep':imp_features})),\n",
    "    ('XGBoost', xgb_grid.best_estimator_)\n",
    "])\n",
    "xgb_pipeline_final.fit(train_X, train_y)"
   ]
  },
  {
   "cell_type": "code",
   "execution_count": null,
   "metadata": {},
   "outputs": [],
   "source": [
    "reg_tree_report = RegressionReport(model=xgb_pipeline_final, x_train=train_X, y_train=train_y, x_test= test_X, y_test= test_y)\n",
    "reg_tree_report.get_report(include_shap=False, file_path='regression_tree_model_report')"
   ]
  },
  {
   "cell_type": "markdown",
   "metadata": {},
   "source": [
    "The Regression report containing the feature importances are available [here](https://drive.google.com/file/d/1JBfL3uxPcxBfl0amweXBFmLr7CSHFBUO/view?usp=sharing)"
   ]
  },
  {
   "cell_type": "markdown",
   "metadata": {},
   "source": [
    "# 5 Model Comparison"
   ]
  },
  {
   "cell_type": "markdown",
   "metadata": {},
   "source": [
    "Now, a comparison report of the  linear (vs) tree -based model  approach can be generated as follows.\n",
    "\n",
    "This code will not be part of the production code."
   ]
  },
  {
   "cell_type": "code",
   "execution_count": null,
   "metadata": {},
   "outputs": [],
   "source": [
    "model_pipelines = [reg_ppln, xgb_pipeline_final]\n",
    "model_comparison_report = RegressionComparison(models=model_pipelines,x=train_X, y=train_y)\n",
    "metrics = model_comparison_report.get_report(file_path='regression_comparison')"
   ]
  },
  {
   "cell_type": "code",
   "execution_count": null,
   "metadata": {},
   "outputs": [],
   "source": [
    "model_comparison_report.performance_metrics"
   ]
  },
  {
   "cell_type": "markdown",
   "metadata": {},
   "source": [
    "A report comparing the performance, metrics between Linear model and Tree model are available [here](https://drive.google.com/file/d/1LDibiFap9K4DKME-Y0S0mtI_05lTdaJF/view?usp=sharing)"
   ]
  },
  {
   "cell_type": "markdown",
   "metadata": {},
   "source": [
    "**Dev NOTES**\n",
    "<details>\n",
    "\n",
    "the above metrics are absolute nos and not %ges"
   ]
  },
  {
   "cell_type": "markdown",
   "metadata": {},
   "source": [
    "In this example we are choosing LM model for pipelining. General criteria for choosing production models is:\n",
    "\n",
    "- Parametric models (aka whitebox models) such as Linear Regression are easier to explain to non-technical audience.\n",
    "- Generally these are accepted fast and adoption is quicker.\n",
    "- If the downstream calls for optimization using these models parametric models are easier to implement.\n",
    "- When accuracy is primary goal without explainability, the above two takes a backseat"
   ]
  },
  {
   "cell_type": "code",
   "execution_count": null,
   "metadata": {},
   "outputs": [],
   "source": []
  }
 ],
 "metadata": {
  "kernelspec": {
   "display_name": "Python 3 (ipykernel)",
   "language": "python",
   "name": "python3"
  },
  "language_info": {
   "codemirror_mode": {
    "name": "ipython",
    "version": 3
   },
   "file_extension": ".py",
   "mimetype": "text/x-python",
   "name": "python",
   "nbconvert_exporter": "python",
   "pygments_lexer": "ipython3",
   "version": "3.9.13"
  }
 },
 "nbformat": 4,
 "nbformat_minor": 4
}
